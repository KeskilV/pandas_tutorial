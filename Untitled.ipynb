{
 "cells": [
  {
   "cell_type": "code",
   "execution_count": null,
   "id": "e3b2a68a",
   "metadata": {},
   "outputs": [],
   "source": [
    "#22-10-05"
   ]
  },
  {
   "cell_type": "code",
   "execution_count": 1,
   "id": "c70a3ae2",
   "metadata": {},
   "outputs": [],
   "source": [
    "import pandas as pd\n",
    "import seaborn as sns\n"
   ]
  },
  {
   "cell_type": "code",
   "execution_count": 2,
   "id": "7e4b0cdd",
   "metadata": {},
   "outputs": [],
   "source": [
    "df = pd.read_excel('data/_брилл_суммированы_mius240522_0-4154.xlsx')"
   ]
  },
  {
   "cell_type": "code",
   "execution_count": 4,
   "id": "fd65c5f6",
   "metadata": {},
   "outputs": [
    {
     "data": {
      "text/html": [
       "<div>\n",
       "<style scoped>\n",
       "    .dataframe tbody tr th:only-of-type {\n",
       "        vertical-align: middle;\n",
       "    }\n",
       "\n",
       "    .dataframe tbody tr th {\n",
       "        vertical-align: top;\n",
       "    }\n",
       "\n",
       "    .dataframe thead th {\n",
       "        text-align: right;\n",
       "    }\n",
       "</style>\n",
       "<table border=\"1\" class=\"dataframe\">\n",
       "  <thead>\n",
       "    <tr style=\"text-align: right;\">\n",
       "      <th></th>\n",
       "      <th>Unnamed: 0</th>\n",
       "      <th>index_row</th>\n",
       "      <th>h1</th>\n",
       "      <th>art</th>\n",
       "      <th>price</th>\n",
       "      <th>gold</th>\n",
       "      <th>weight</th>\n",
       "      <th>gems</th>\n",
       "      <th>url</th>\n",
       "      <th>checklog</th>\n",
       "      <th>vstavki_list1</th>\n",
       "      <th>ШТУК</th>\n",
       "      <th>КАРАТ</th>\n",
       "      <th>prcost</th>\n",
       "    </tr>\n",
       "  </thead>\n",
       "  <tbody>\n",
       "    <tr>\n",
       "      <th>0</th>\n",
       "      <td>0</td>\n",
       "      <td>0</td>\n",
       "      <td>Кольцо c бриллиантом R01-SOL127-020-G2</td>\n",
       "      <td>Артикул R01-SOL127-020-G2</td>\n",
       "      <td>92394</td>\n",
       "      <td>Золото 585</td>\n",
       "      <td>2.97</td>\n",
       "      <td>1  Бриллиант огранки \"Круглая\" граней - 57, ти...</td>\n",
       "      <td>https://miuz.ru/catalog/rings/R01-SOL127-020-G2/</td>\n",
       "      <td>NaN</td>\n",
       "      <td>['1  Бриллиант огранки \"Круглая\" граней - 57, ...</td>\n",
       "      <td>1</td>\n",
       "      <td>0.190</td>\n",
       "      <td>81.70</td>\n",
       "    </tr>\n",
       "    <tr>\n",
       "      <th>1</th>\n",
       "      <td>1</td>\n",
       "      <td>1</td>\n",
       "      <td>Кольцо c бриллиантом R2018-RR010203ADI</td>\n",
       "      <td>Артикул R2018-RR010203ADI</td>\n",
       "      <td>27245</td>\n",
       "      <td>Золото 585</td>\n",
       "      <td>2.02</td>\n",
       "      <td>1  Бриллиант огранки \"Круглая\" граней - 57, ти...</td>\n",
       "      <td>https://miuz.ru/catalog/rings/R2018-RR010203ADI/</td>\n",
       "      <td>NaN</td>\n",
       "      <td>['1  Бриллиант огранки \"Круглая\" граней - 57, ...</td>\n",
       "      <td>1</td>\n",
       "      <td>0.045</td>\n",
       "      <td>13.28</td>\n",
       "    </tr>\n",
       "    <tr>\n",
       "      <th>2</th>\n",
       "      <td>2</td>\n",
       "      <td>3</td>\n",
       "      <td>Кольцо c бриллиантами R01-SS-35698B</td>\n",
       "      <td>Артикул R01-SS-35698B</td>\n",
       "      <td>100419</td>\n",
       "      <td>Золото 585</td>\n",
       "      <td>2.40</td>\n",
       "      <td>38  Бриллиантов огранки \"Круглая\" граней - 57,...</td>\n",
       "      <td>https://miuz.ru/catalog/rings/R01-SS-35698B/</td>\n",
       "      <td>NaN</td>\n",
       "      <td>['38  Бриллиантов огранки \"Круглая\" граней - 5...</td>\n",
       "      <td>51</td>\n",
       "      <td>0.570</td>\n",
       "      <td>100.50</td>\n",
       "    </tr>\n",
       "    <tr>\n",
       "      <th>3</th>\n",
       "      <td>3</td>\n",
       "      <td>5</td>\n",
       "      <td>Кольцо c бриллиантами R2022-D-0.17-W</td>\n",
       "      <td>Артикул R2022-D-0.17-W</td>\n",
       "      <td>64019</td>\n",
       "      <td>Золото 585</td>\n",
       "      <td>2.95</td>\n",
       "      <td>11  Бриллиантов огранки \"Круглая\" граней - 57,...</td>\n",
       "      <td>https://miuz.ru/catalog/rings/R2022-D-0.17-W/</td>\n",
       "      <td>NaN</td>\n",
       "      <td>['11  Бриллиантов огранки \"Круглая\" граней - 5...</td>\n",
       "      <td>11</td>\n",
       "      <td>0.147</td>\n",
       "      <td>47.78</td>\n",
       "    </tr>\n",
       "    <tr>\n",
       "      <th>4</th>\n",
       "      <td>4</td>\n",
       "      <td>7</td>\n",
       "      <td>Кольцо c бриллиантом R01-SOL17-010-G2</td>\n",
       "      <td>Артикул R01-SOL17-010-G2</td>\n",
       "      <td>35994</td>\n",
       "      <td>Золото 585</td>\n",
       "      <td>1.49</td>\n",
       "      <td>1  Бриллиант огранки \"Круглая\" граней - 57, ти...</td>\n",
       "      <td>https://miuz.ru/catalog/rings/R01-SOL17-010-G2/</td>\n",
       "      <td>NaN</td>\n",
       "      <td>['1  Бриллиант огранки \"Круглая\" граней - 57, ...</td>\n",
       "      <td>1</td>\n",
       "      <td>0.100</td>\n",
       "      <td>38.00</td>\n",
       "    </tr>\n",
       "  </tbody>\n",
       "</table>\n",
       "</div>"
      ],
      "text/plain": [
       "   Unnamed: 0  index_row                                      h1  \\\n",
       "0           0          0  Кольцо c бриллиантом R01-SOL127-020-G2   \n",
       "1           1          1  Кольцо c бриллиантом R2018-RR010203ADI   \n",
       "2           2          3     Кольцо c бриллиантами R01-SS-35698B   \n",
       "3           3          5    Кольцо c бриллиантами R2022-D-0.17-W   \n",
       "4           4          7   Кольцо c бриллиантом R01-SOL17-010-G2   \n",
       "\n",
       "                         art   price        gold  weight  \\\n",
       "0  Артикул R01-SOL127-020-G2   92394  Золото 585    2.97   \n",
       "1  Артикул R2018-RR010203ADI   27245  Золото 585    2.02   \n",
       "2      Артикул R01-SS-35698B  100419  Золото 585    2.40   \n",
       "3     Артикул R2022-D-0.17-W   64019  Золото 585    2.95   \n",
       "4   Артикул R01-SOL17-010-G2   35994  Золото 585    1.49   \n",
       "\n",
       "                                                gems  \\\n",
       "0  1  Бриллиант огранки \"Круглая\" граней - 57, ти...   \n",
       "1  1  Бриллиант огранки \"Круглая\" граней - 57, ти...   \n",
       "2  38  Бриллиантов огранки \"Круглая\" граней - 57,...   \n",
       "3  11  Бриллиантов огранки \"Круглая\" граней - 57,...   \n",
       "4  1  Бриллиант огранки \"Круглая\" граней - 57, ти...   \n",
       "\n",
       "                                                url  checklog  \\\n",
       "0  https://miuz.ru/catalog/rings/R01-SOL127-020-G2/       NaN   \n",
       "1  https://miuz.ru/catalog/rings/R2018-RR010203ADI/       NaN   \n",
       "2      https://miuz.ru/catalog/rings/R01-SS-35698B/       NaN   \n",
       "3     https://miuz.ru/catalog/rings/R2022-D-0.17-W/       NaN   \n",
       "4   https://miuz.ru/catalog/rings/R01-SOL17-010-G2/       NaN   \n",
       "\n",
       "                                       vstavki_list1  ШТУК  КАРАТ  prcost  \n",
       "0  ['1  Бриллиант огранки \"Круглая\" граней - 57, ...     1  0.190   81.70  \n",
       "1  ['1  Бриллиант огранки \"Круглая\" граней - 57, ...     1  0.045   13.28  \n",
       "2  ['38  Бриллиантов огранки \"Круглая\" граней - 5...    51  0.570  100.50  \n",
       "3  ['11  Бриллиантов огранки \"Круглая\" граней - 5...    11  0.147   47.78  \n",
       "4  ['1  Бриллиант огранки \"Круглая\" граней - 57, ...     1  0.100   38.00  "
      ]
     },
     "execution_count": 4,
     "metadata": {},
     "output_type": "execute_result"
    }
   ],
   "source": [
    "df.head()"
   ]
  },
  {
   "cell_type": "code",
   "execution_count": 6,
   "id": "89d7aef9",
   "metadata": {},
   "outputs": [
    {
     "data": {
      "text/plain": [
       "Золото 585    1703\n",
       "Золото 750     144\n",
       "Золото 375      41\n",
       "Name: gold, dtype: int64"
      ]
     },
     "execution_count": 6,
     "metadata": {},
     "output_type": "execute_result"
    }
   ],
   "source": [
    "df.gold.value_counts()"
   ]
  },
  {
   "cell_type": "code",
   "execution_count": 7,
   "id": "56775ee7",
   "metadata": {},
   "outputs": [
    {
     "data": {
      "text/plain": [
       "<AxesSubplot:>"
      ]
     },
     "execution_count": 7,
     "metadata": {},
     "output_type": "execute_result"
    },
    {
     "data": {
      "image/png": "[encoded data removed]",
      "text/plain": [
       "<Figure size 432x288 with 1 Axes>"
      ]
     },
     "metadata": {
      "needs_background": "light"
     },
     "output_type": "display_data"
    }
   ],
   "source": [
    "df.gold.hist()"
   ]
  },
  {
   "cell_type": "code",
   "execution_count": null,
   "id": "677f181e",
   "metadata": {},
   "outputs": [],
   "source": []
  }
 ],
 "metadata": {
  "kernelspec": {
   "display_name": "Python 3 (ipykernel)",
   "language": "python",
   "name": "python3"
  },
  "language_info": {
   "codemirror_mode": {
    "name": "ipython",
    "version": 3
   },
   "file_extension": ".py",
   "mimetype": "text/x-python",
   "name": "python",
   "nbconvert_exporter": "python",
   "pygments_lexer": "ipython3",
   "version": "3.9.7"
  }
 },
 "nbformat": 4,
 "nbformat_minor": 5
}
