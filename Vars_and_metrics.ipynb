{
 "cells": [
  {
   "cell_type": "code",
   "execution_count": null,
   "id": "801bf5ba",
   "metadata": {},
   "outputs": [],
   "source": [
    "#22-10-05"
   ]
  },
  {
   "cell_type": "code",
   "execution_count": 1,
   "id": "0ab2e3dc",
   "metadata": {},
   "outputs": [],
   "source": [
    "import pandas as pd\n",
    "import seaborn as sns\n"
   ]
  },
  {
   "cell_type": "code",
   "execution_count": 2,
   "id": "d0612a9c",
   "metadata": {},
   "outputs": [],
   "source": [
    "df = pd.read_excel('data/_брилл_суммированы_mius240522_0-4154.xlsx')"
   ]
  },
  {
   "cell_type": "code",
   "execution_count": 4,
   "id": "69a68af3",
   "metadata": {},
   "outputs": [
    {
     "data": {
      "text/html": [
       "<div>\n",
       "<style scoped>\n",
       "    .dataframe tbody tr th:only-of-type {\n",
       "        vertical-align: middle;\n",
       "    }\n",
       "\n",
       "    .dataframe tbody tr th {\n",
       "        vertical-align: top;\n",
       "    }\n",
       "\n",
       "    .dataframe thead th {\n",
       "        text-align: right;\n",
       "    }\n",
       "</style>\n",
       "<table border=\"1\" class=\"dataframe\">\n",
       "  <thead>\n",
       "    <tr style=\"text-align: right;\">\n",
       "      <th></th>\n",
       "      <th>Unnamed: 0</th>\n",
       "      <th>index_row</th>\n",
       "      <th>h1</th>\n",
       "      <th>art</th>\n",
       "      <th>price</th>\n",
       "      <th>gold</th>\n",
       "      <th>weight</th>\n",
       "      <th>gems</th>\n",
       "      <th>url</th>\n",
       "      <th>checklog</th>\n",
       "      <th>vstavki_list1</th>\n",
       "      <th>ШТУК</th>\n",
       "      <th>КАРАТ</th>\n",
       "      <th>prcost</th>\n",
       "    </tr>\n",
       "  </thead>\n",
       "  <tbody>\n",
       "    <tr>\n",
       "      <th>0</th>\n",
       "      <td>0</td>\n",
       "      <td>0</td>\n",
       "      <td>Кольцо c бриллиантом R01-SOL127-020-G2</td>\n",
       "      <td>Артикул R01-SOL127-020-G2</td>\n",
       "      <td>92394</td>\n",
       "      <td>Золото 585</td>\n",
       "      <td>2.97</td>\n",
       "      <td>1  Бриллиант огранки \"Круглая\" граней - 57, ти...</td>\n",
       "      <td>https://miuz.ru/catalog/rings/R01-SOL127-020-G2/</td>\n",
       "      <td>NaN</td>\n",
       "      <td>['1  Бриллиант огранки \"Круглая\" граней - 57, ...</td>\n",
       "      <td>1</td>\n",
       "      <td>0.190</td>\n",
       "      <td>81.70</td>\n",
       "    </tr>\n",
       "    <tr>\n",
       "      <th>1</th>\n",
       "      <td>1</td>\n",
       "      <td>1</td>\n",
       "      <td>Кольцо c бриллиантом R2018-RR010203ADI</td>\n",
       "      <td>Артикул R2018-RR010203ADI</td>\n",
       "      <td>27245</td>\n",
       "      <td>Золото 585</td>\n",
       "      <td>2.02</td>\n",
       "      <td>1  Бриллиант огранки \"Круглая\" граней - 57, ти...</td>\n",
       "      <td>https://miuz.ru/catalog/rings/R2018-RR010203ADI/</td>\n",
       "      <td>NaN</td>\n",
       "      <td>['1  Бриллиант огранки \"Круглая\" граней - 57, ...</td>\n",
       "      <td>1</td>\n",
       "      <td>0.045</td>\n",
       "      <td>13.28</td>\n",
       "    </tr>\n",
       "    <tr>\n",
       "      <th>2</th>\n",
       "      <td>2</td>\n",
       "      <td>3</td>\n",
       "      <td>Кольцо c бриллиантами R01-SS-35698B</td>\n",
       "      <td>Артикул R01-SS-35698B</td>\n",
       "      <td>100419</td>\n",
       "      <td>Золото 585</td>\n",
       "      <td>2.40</td>\n",
       "      <td>38  Бриллиантов огранки \"Круглая\" граней - 57,...</td>\n",
       "      <td>https://miuz.ru/catalog/rings/R01-SS-35698B/</td>\n",
       "      <td>NaN</td>\n",
       "      <td>['38  Бриллиантов огранки \"Круглая\" граней - 5...</td>\n",
       "      <td>51</td>\n",
       "      <td>0.570</td>\n",
       "      <td>100.50</td>\n",
       "    </tr>\n",
       "    <tr>\n",
       "      <th>3</th>\n",
       "      <td>3</td>\n",
       "      <td>5</td>\n",
       "      <td>Кольцо c бриллиантами R2022-D-0.17-W</td>\n",
       "      <td>Артикул R2022-D-0.17-W</td>\n",
       "      <td>64019</td>\n",
       "      <td>Золото 585</td>\n",
       "      <td>2.95</td>\n",
       "      <td>11  Бриллиантов огранки \"Круглая\" граней - 57,...</td>\n",
       "      <td>https://miuz.ru/catalog/rings/R2022-D-0.17-W/</td>\n",
       "      <td>NaN</td>\n",
       "      <td>['11  Бриллиантов огранки \"Круглая\" граней - 5...</td>\n",
       "      <td>11</td>\n",
       "      <td>0.147</td>\n",
       "      <td>47.78</td>\n",
       "    </tr>\n",
       "    <tr>\n",
       "      <th>4</th>\n",
       "      <td>4</td>\n",
       "      <td>7</td>\n",
       "      <td>Кольцо c бриллиантом R01-SOL17-010-G2</td>\n",
       "      <td>Артикул R01-SOL17-010-G2</td>\n",
       "      <td>35994</td>\n",
       "      <td>Золото 585</td>\n",
       "      <td>1.49</td>\n",
       "      <td>1  Бриллиант огранки \"Круглая\" граней - 57, ти...</td>\n",
       "      <td>https://miuz.ru/catalog/rings/R01-SOL17-010-G2/</td>\n",
       "      <td>NaN</td>\n",
       "      <td>['1  Бриллиант огранки \"Круглая\" граней - 57, ...</td>\n",
       "      <td>1</td>\n",
       "      <td>0.100</td>\n",
       "      <td>38.00</td>\n",
       "    </tr>\n",
       "  </tbody>\n",
       "</table>\n",
       "</div>"
      ],
      "text/plain": [
       "   Unnamed: 0  index_row                                      h1  \\\n",
       "0           0          0  Кольцо c бриллиантом R01-SOL127-020-G2   \n",
       "1           1          1  Кольцо c бриллиантом R2018-RR010203ADI   \n",
       "2           2          3     Кольцо c бриллиантами R01-SS-35698B   \n",
       "3           3          5    Кольцо c бриллиантами R2022-D-0.17-W   \n",
       "4           4          7   Кольцо c бриллиантом R01-SOL17-010-G2   \n",
       "\n",
       "                         art   price        gold  weight  \\\n",
       "0  Артикул R01-SOL127-020-G2   92394  Золото 585    2.97   \n",
       "1  Артикул R2018-RR010203ADI   27245  Золото 585    2.02   \n",
       "2      Артикул R01-SS-35698B  100419  Золото 585    2.40   \n",
       "3     Артикул R2022-D-0.17-W   64019  Золото 585    2.95   \n",
       "4   Артикул R01-SOL17-010-G2   35994  Золото 585    1.49   \n",
       "\n",
       "                                                gems  \\\n",
       "0  1  Бриллиант огранки \"Круглая\" граней - 57, ти...   \n",
       "1  1  Бриллиант огранки \"Круглая\" граней - 57, ти...   \n",
       "2  38  Бриллиантов огранки \"Круглая\" граней - 57,...   \n",
       "3  11  Бриллиантов огранки \"Круглая\" граней - 57,...   \n",
       "4  1  Бриллиант огранки \"Круглая\" граней - 57, ти...   \n",
       "\n",
       "                                                url  checklog  \\\n",
       "0  https://miuz.ru/catalog/rings/R01-SOL127-020-G2/       NaN   \n",
       "1  https://miuz.ru/catalog/rings/R2018-RR010203ADI/       NaN   \n",
       "2      https://miuz.ru/catalog/rings/R01-SS-35698B/       NaN   \n",
       "3     https://miuz.ru/catalog/rings/R2022-D-0.17-W/       NaN   \n",
       "4   https://miuz.ru/catalog/rings/R01-SOL17-010-G2/       NaN   \n",
       "\n",
       "                                       vstavki_list1  ШТУК  КАРАТ  prcost  \n",
       "0  ['1  Бриллиант огранки \"Круглая\" граней - 57, ...     1  0.190   81.70  \n",
       "1  ['1  Бриллиант огранки \"Круглая\" граней - 57, ...     1  0.045   13.28  \n",
       "2  ['38  Бриллиантов огранки \"Круглая\" граней - 5...    51  0.570  100.50  \n",
       "3  ['11  Бриллиантов огранки \"Круглая\" граней - 5...    11  0.147   47.78  \n",
       "4  ['1  Бриллиант огранки \"Круглая\" граней - 57, ...     1  0.100   38.00  "
      ]
     },
     "execution_count": 4,
     "metadata": {},
     "output_type": "execute_result"
    }
   ],
   "source": [
    "df.head()"
   ]
  },
  {
   "cell_type": "code",
   "execution_count": 10,
   "id": "c6248d48",
   "metadata": {},
   "outputs": [
    {
     "data": {
      "text/plain": [
       "Золото 585    1703\n",
       "Золото 750     144\n",
       "Золото 375      41\n",
       "Name: gold, dtype: int64"
      ]
     },
     "execution_count": 10,
     "metadata": {},
     "output_type": "execute_result"
    }
   ],
   "source": [
    "df.gold.value_counts()"
   ]
  },
  {
   "cell_type": "code",
   "execution_count": 13,
   "id": "9e97b4b5",
   "metadata": {},
   "outputs": [
    {
     "data": {
      "text/plain": [
       "<AxesSubplot:>"
      ]
     },
     "execution_count": 13,
     "metadata": {},
     "output_type": "execute_result"
    },
    {
     "data": {
      "image/png": "[encoded data removed]",
      "text/plain": [
       "<Figure size 360x360 with 1 Axes>"
      ]
     },
     "metadata": {
      "needs_background": "light"
     },
     "output_type": "display_data"
    }
   ],
   "source": [
    "df.gold.hist(figsize=(5,5), legend = True)"
   ]
  },
  {
   "cell_type": "code",
   "execution_count": 16,
   "id": "03f2546b",
   "metadata": {},
   "outputs": [
    {
     "data": {
      "text/plain": [
       "<AxesSubplot:xlabel='gold', ylabel='Percent'>"
      ]
     },
     "execution_count": 16,
     "metadata": {},
     "output_type": "execute_result"
    },
    {
     "data": {
      "image/png": "[encoded data removed]",
      "text/plain": [
       "<Figure size 432x288 with 1 Axes>"
      ]
     },
     "metadata": {
      "needs_background": "light"
     },
     "output_type": "display_data"
    }
   ],
   "source": [
    "sns.histplot(df.gold, stat='percent')"
   ]
  },
  {
   "cell_type": "code",
   "execution_count": 18,
   "id": "484a71d9",
   "metadata": {},
   "outputs": [
    {
     "data": {
      "text/plain": [
       "<AxesSubplot:>"
      ]
     },
     "execution_count": 18,
     "metadata": {},
     "output_type": "execute_result"
    },
    {
     "data": {
      "image/png": "[encoded data removed]",
      "text/plain": [
       "<Figure size 432x288 with 1 Axes>"
      ]
     },
     "metadata": {
      "needs_background": "light"
     },
     "output_type": "display_data"
    }
   ],
   "source": [
    "df.weight.hist(legend=True)"
   ]
  },
  {
   "cell_type": "code",
   "execution_count": 19,
   "id": "b09ec206",
   "metadata": {},
   "outputs": [
    {
     "data": {
      "text/plain": [
       "<AxesSubplot:xlabel='weight', ylabel='Count'>"
      ]
     },
     "execution_count": 19,
     "metadata": {},
     "output_type": "execute_result"
    },
    {
     "data": {
      "image/png": "[encoded data removed]",
      "text/plain": [
       "<Figure size 432x288 with 1 Axes>"
      ]
     },
     "metadata": {
      "needs_background": "light"
     },
     "output_type": "display_data"
    }
   ],
   "source": [
    "sns.histplot(df.weight) #auto cut"
   ]
  },
  {
   "cell_type": "code",
   "execution_count": 28,
   "id": "f694fe67",
   "metadata": {},
   "outputs": [],
   "source": [
    "df['weight_bin'] = pd.cut(df.weight, 30)"
   ]
  },
  {
   "cell_type": "code",
   "execution_count": 35,
   "id": "3f7f55db",
   "metadata": {},
   "outputs": [
    {
     "data": {
      "text/html": [
       "<div>\n",
       "<style scoped>\n",
       "    .dataframe tbody tr th:only-of-type {\n",
       "        vertical-align: middle;\n",
       "    }\n",
       "\n",
       "    .dataframe tbody tr th {\n",
       "        vertical-align: top;\n",
       "    }\n",
       "\n",
       "    .dataframe thead th {\n",
       "        text-align: right;\n",
       "    }\n",
       "</style>\n",
       "<table border=\"1\" class=\"dataframe\">\n",
       "  <thead>\n",
       "    <tr style=\"text-align: right;\">\n",
       "      <th></th>\n",
       "      <th>count</th>\n",
       "      <th>mean</th>\n",
       "      <th>median</th>\n",
       "      <th>sum</th>\n",
       "    </tr>\n",
       "    <tr>\n",
       "      <th>weight_bin</th>\n",
       "      <th></th>\n",
       "      <th></th>\n",
       "      <th></th>\n",
       "      <th></th>\n",
       "    </tr>\n",
       "  </thead>\n",
       "  <tbody>\n",
       "    <tr>\n",
       "      <th>(0.821, 1.484]</th>\n",
       "      <td>150</td>\n",
       "      <td>1.294667</td>\n",
       "      <td>1.310</td>\n",
       "      <td>194.20</td>\n",
       "    </tr>\n",
       "    <tr>\n",
       "      <th>(1.484, 2.129]</th>\n",
       "      <td>490</td>\n",
       "      <td>1.835551</td>\n",
       "      <td>1.860</td>\n",
       "      <td>899.42</td>\n",
       "    </tr>\n",
       "    <tr>\n",
       "      <th>(2.129, 2.773]</th>\n",
       "      <td>508</td>\n",
       "      <td>2.433642</td>\n",
       "      <td>2.415</td>\n",
       "      <td>1236.29</td>\n",
       "    </tr>\n",
       "    <tr>\n",
       "      <th>(2.773, 3.417]</th>\n",
       "      <td>292</td>\n",
       "      <td>3.069075</td>\n",
       "      <td>3.050</td>\n",
       "      <td>896.17</td>\n",
       "    </tr>\n",
       "    <tr>\n",
       "      <th>(3.417, 4.062]</th>\n",
       "      <td>154</td>\n",
       "      <td>3.728312</td>\n",
       "      <td>3.705</td>\n",
       "      <td>574.16</td>\n",
       "    </tr>\n",
       "    <tr>\n",
       "      <th>(4.062, 4.706]</th>\n",
       "      <td>119</td>\n",
       "      <td>4.326471</td>\n",
       "      <td>4.320</td>\n",
       "      <td>514.85</td>\n",
       "    </tr>\n",
       "    <tr>\n",
       "      <th>(4.706, 5.35]</th>\n",
       "      <td>50</td>\n",
       "      <td>5.003200</td>\n",
       "      <td>4.955</td>\n",
       "      <td>250.16</td>\n",
       "    </tr>\n",
       "    <tr>\n",
       "      <th>(5.35, 5.995]</th>\n",
       "      <td>47</td>\n",
       "      <td>5.693404</td>\n",
       "      <td>5.670</td>\n",
       "      <td>267.59</td>\n",
       "    </tr>\n",
       "    <tr>\n",
       "      <th>(5.995, 6.639]</th>\n",
       "      <td>20</td>\n",
       "      <td>6.332000</td>\n",
       "      <td>6.290</td>\n",
       "      <td>126.64</td>\n",
       "    </tr>\n",
       "    <tr>\n",
       "      <th>(6.639, 7.283]</th>\n",
       "      <td>15</td>\n",
       "      <td>6.980667</td>\n",
       "      <td>6.980</td>\n",
       "      <td>104.71</td>\n",
       "    </tr>\n",
       "    <tr>\n",
       "      <th>(7.283, 7.928]</th>\n",
       "      <td>9</td>\n",
       "      <td>7.531111</td>\n",
       "      <td>7.400</td>\n",
       "      <td>67.78</td>\n",
       "    </tr>\n",
       "    <tr>\n",
       "      <th>(7.928, 8.572]</th>\n",
       "      <td>5</td>\n",
       "      <td>8.178000</td>\n",
       "      <td>8.150</td>\n",
       "      <td>40.89</td>\n",
       "    </tr>\n",
       "    <tr>\n",
       "      <th>(8.572, 9.216]</th>\n",
       "      <td>4</td>\n",
       "      <td>8.752500</td>\n",
       "      <td>8.740</td>\n",
       "      <td>35.01</td>\n",
       "    </tr>\n",
       "    <tr>\n",
       "      <th>(9.216, 9.861]</th>\n",
       "      <td>8</td>\n",
       "      <td>9.472500</td>\n",
       "      <td>9.465</td>\n",
       "      <td>75.78</td>\n",
       "    </tr>\n",
       "    <tr>\n",
       "      <th>(9.861, 10.505]</th>\n",
       "      <td>5</td>\n",
       "      <td>10.212000</td>\n",
       "      <td>10.160</td>\n",
       "      <td>51.06</td>\n",
       "    </tr>\n",
       "    <tr>\n",
       "      <th>(10.505, 11.149]</th>\n",
       "      <td>2</td>\n",
       "      <td>10.780000</td>\n",
       "      <td>10.780</td>\n",
       "      <td>21.56</td>\n",
       "    </tr>\n",
       "    <tr>\n",
       "      <th>(11.149, 11.794]</th>\n",
       "      <td>2</td>\n",
       "      <td>11.430000</td>\n",
       "      <td>11.430</td>\n",
       "      <td>22.86</td>\n",
       "    </tr>\n",
       "    <tr>\n",
       "      <th>(11.794, 12.438]</th>\n",
       "      <td>2</td>\n",
       "      <td>12.210000</td>\n",
       "      <td>12.210</td>\n",
       "      <td>24.42</td>\n",
       "    </tr>\n",
       "    <tr>\n",
       "      <th>(12.438, 13.082]</th>\n",
       "      <td>0</td>\n",
       "      <td>NaN</td>\n",
       "      <td>NaN</td>\n",
       "      <td>0.00</td>\n",
       "    </tr>\n",
       "    <tr>\n",
       "      <th>(13.082, 13.727]</th>\n",
       "      <td>2</td>\n",
       "      <td>13.100000</td>\n",
       "      <td>13.100</td>\n",
       "      <td>26.20</td>\n",
       "    </tr>\n",
       "    <tr>\n",
       "      <th>(13.727, 14.371]</th>\n",
       "      <td>0</td>\n",
       "      <td>NaN</td>\n",
       "      <td>NaN</td>\n",
       "      <td>0.00</td>\n",
       "    </tr>\n",
       "    <tr>\n",
       "      <th>(14.371, 15.015]</th>\n",
       "      <td>2</td>\n",
       "      <td>14.870000</td>\n",
       "      <td>14.870</td>\n",
       "      <td>29.74</td>\n",
       "    </tr>\n",
       "    <tr>\n",
       "      <th>(15.015, 15.66]</th>\n",
       "      <td>1</td>\n",
       "      <td>15.360000</td>\n",
       "      <td>15.360</td>\n",
       "      <td>15.36</td>\n",
       "    </tr>\n",
       "    <tr>\n",
       "      <th>(15.66, 16.304]</th>\n",
       "      <td>0</td>\n",
       "      <td>NaN</td>\n",
       "      <td>NaN</td>\n",
       "      <td>0.00</td>\n",
       "    </tr>\n",
       "    <tr>\n",
       "      <th>(16.304, 16.948]</th>\n",
       "      <td>0</td>\n",
       "      <td>NaN</td>\n",
       "      <td>NaN</td>\n",
       "      <td>0.00</td>\n",
       "    </tr>\n",
       "    <tr>\n",
       "      <th>(16.948, 17.593]</th>\n",
       "      <td>0</td>\n",
       "      <td>NaN</td>\n",
       "      <td>NaN</td>\n",
       "      <td>0.00</td>\n",
       "    </tr>\n",
       "    <tr>\n",
       "      <th>(17.593, 18.237]</th>\n",
       "      <td>0</td>\n",
       "      <td>NaN</td>\n",
       "      <td>NaN</td>\n",
       "      <td>0.00</td>\n",
       "    </tr>\n",
       "    <tr>\n",
       "      <th>(18.237, 18.881]</th>\n",
       "      <td>0</td>\n",
       "      <td>NaN</td>\n",
       "      <td>NaN</td>\n",
       "      <td>0.00</td>\n",
       "    </tr>\n",
       "    <tr>\n",
       "      <th>(18.881, 19.526]</th>\n",
       "      <td>0</td>\n",
       "      <td>NaN</td>\n",
       "      <td>NaN</td>\n",
       "      <td>0.00</td>\n",
       "    </tr>\n",
       "    <tr>\n",
       "      <th>(19.526, 20.17]</th>\n",
       "      <td>1</td>\n",
       "      <td>20.170000</td>\n",
       "      <td>20.170</td>\n",
       "      <td>20.17</td>\n",
       "    </tr>\n",
       "  </tbody>\n",
       "</table>\n",
       "</div>"
      ],
      "text/plain": [
       "                  count       mean  median      sum\n",
       "weight_bin                                         \n",
       "(0.821, 1.484]      150   1.294667   1.310   194.20\n",
       "(1.484, 2.129]      490   1.835551   1.860   899.42\n",
       "(2.129, 2.773]      508   2.433642   2.415  1236.29\n",
       "(2.773, 3.417]      292   3.069075   3.050   896.17\n",
       "(3.417, 4.062]      154   3.728312   3.705   574.16\n",
       "(4.062, 4.706]      119   4.326471   4.320   514.85\n",
       "(4.706, 5.35]        50   5.003200   4.955   250.16\n",
       "(5.35, 5.995]        47   5.693404   5.670   267.59\n",
       "(5.995, 6.639]       20   6.332000   6.290   126.64\n",
       "(6.639, 7.283]       15   6.980667   6.980   104.71\n",
       "(7.283, 7.928]        9   7.531111   7.400    67.78\n",
       "(7.928, 8.572]        5   8.178000   8.150    40.89\n",
       "(8.572, 9.216]        4   8.752500   8.740    35.01\n",
       "(9.216, 9.861]        8   9.472500   9.465    75.78\n",
       "(9.861, 10.505]       5  10.212000  10.160    51.06\n",
       "(10.505, 11.149]      2  10.780000  10.780    21.56\n",
       "(11.149, 11.794]      2  11.430000  11.430    22.86\n",
       "(11.794, 12.438]      2  12.210000  12.210    24.42\n",
       "(12.438, 13.082]      0        NaN     NaN     0.00\n",
       "(13.082, 13.727]      2  13.100000  13.100    26.20\n",
       "(13.727, 14.371]      0        NaN     NaN     0.00\n",
       "(14.371, 15.015]      2  14.870000  14.870    29.74\n",
       "(15.015, 15.66]       1  15.360000  15.360    15.36\n",
       "(15.66, 16.304]       0        NaN     NaN     0.00\n",
       "(16.304, 16.948]      0        NaN     NaN     0.00\n",
       "(16.948, 17.593]      0        NaN     NaN     0.00\n",
       "(17.593, 18.237]      0        NaN     NaN     0.00\n",
       "(18.237, 18.881]      0        NaN     NaN     0.00\n",
       "(18.881, 19.526]      0        NaN     NaN     0.00\n",
       "(19.526, 20.17]       1  20.170000  20.170    20.17"
      ]
     },
     "execution_count": 35,
     "metadata": {},
     "output_type": "execute_result"
    }
   ],
   "source": [
    "df.groupby(by='weight_bin')['weight'].agg(['count','mean','median','sum'])"
   ]
  },
  {
   "cell_type": "code",
   "execution_count": 32,
   "id": "ae2505b7",
   "metadata": {},
   "outputs": [],
   "source": [
    "df.agg?"
   ]
  }
 ],
 "metadata": {
  "kernelspec": {
   "display_name": "Python 3 (ipykernel)",
   "language": "python",
   "name": "python3"
  },
  "language_info": {
   "codemirror_mode": {
    "name": "ipython",
    "version": 3
   },
   "file_extension": ".py",
   "mimetype": "text/x-python",
   "name": "python",
   "nbconvert_exporter": "python",
   "pygments_lexer": "ipython3",
   "version": "3.9.7"
  }
 },
 "nbformat": 4,
 "nbformat_minor": 5
}
