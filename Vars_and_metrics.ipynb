{
 "cells": [
  {
   "cell_type": "code",
   "execution_count": null,
   "id": "e58474c4",
   "metadata": {},
   "outputs": [],
   "source": [
    "#22-10-05"
   ]
  },
  {
   "cell_type": "code",
   "execution_count": 102,
   "id": "0c78d7aa",
   "metadata": {},
   "outputs": [],
   "source": [
    "import pandas as pd\n",
    "import numpy as np\n",
    "import seaborn as sns\n"
   ]
  },
  {
   "cell_type": "code",
   "execution_count": 2,
   "id": "cc0aad58",
   "metadata": {},
   "outputs": [],
   "source": [
    "df = pd.read_excel('data/_брилл_суммированы_mius240522_0-4154.xlsx')"
   ]
  },
  {
   "cell_type": "code",
   "execution_count": 4,
   "id": "7fd07ffc",
   "metadata": {},
   "outputs": [
    {
     "data": {
      "text/html": [
       "<div>\n",
       "<style scoped>\n",
       "    .dataframe tbody tr th:only-of-type {\n",
       "        vertical-align: middle;\n",
       "    }\n",
       "\n",
       "    .dataframe tbody tr th {\n",
       "        vertical-align: top;\n",
       "    }\n",
       "\n",
       "    .dataframe thead th {\n",
       "        text-align: right;\n",
       "    }\n",
       "</style>\n",
       "<table border=\"1\" class=\"dataframe\">\n",
       "  <thead>\n",
       "    <tr style=\"text-align: right;\">\n",
       "      <th></th>\n",
       "      <th>Unnamed: 0</th>\n",
       "      <th>index_row</th>\n",
       "      <th>h1</th>\n",
       "      <th>art</th>\n",
       "      <th>price</th>\n",
       "      <th>gold</th>\n",
       "      <th>weight</th>\n",
       "      <th>gems</th>\n",
       "      <th>url</th>\n",
       "      <th>checklog</th>\n",
       "      <th>vstavki_list1</th>\n",
       "      <th>ШТУК</th>\n",
       "      <th>КАРАТ</th>\n",
       "      <th>prcost</th>\n",
       "    </tr>\n",
       "  </thead>\n",
       "  <tbody>\n",
       "    <tr>\n",
       "      <th>0</th>\n",
       "      <td>0</td>\n",
       "      <td>0</td>\n",
       "      <td>Кольцо c бриллиантом R01-SOL127-020-G2</td>\n",
       "      <td>Артикул R01-SOL127-020-G2</td>\n",
       "      <td>92394</td>\n",
       "      <td>Золото 585</td>\n",
       "      <td>2.97</td>\n",
       "      <td>1  Бриллиант огранки \"Круглая\" граней - 57, ти...</td>\n",
       "      <td>https://miuz.ru/catalog/rings/R01-SOL127-020-G2/</td>\n",
       "      <td>NaN</td>\n",
       "      <td>['1  Бриллиант огранки \"Круглая\" граней - 57, ...</td>\n",
       "      <td>1</td>\n",
       "      <td>0.190</td>\n",
       "      <td>81.70</td>\n",
       "    </tr>\n",
       "    <tr>\n",
       "      <th>1</th>\n",
       "      <td>1</td>\n",
       "      <td>1</td>\n",
       "      <td>Кольцо c бриллиантом R2018-RR010203ADI</td>\n",
       "      <td>Артикул R2018-RR010203ADI</td>\n",
       "      <td>27245</td>\n",
       "      <td>Золото 585</td>\n",
       "      <td>2.02</td>\n",
       "      <td>1  Бриллиант огранки \"Круглая\" граней - 57, ти...</td>\n",
       "      <td>https://miuz.ru/catalog/rings/R2018-RR010203ADI/</td>\n",
       "      <td>NaN</td>\n",
       "      <td>['1  Бриллиант огранки \"Круглая\" граней - 57, ...</td>\n",
       "      <td>1</td>\n",
       "      <td>0.045</td>\n",
       "      <td>13.28</td>\n",
       "    </tr>\n",
       "    <tr>\n",
       "      <th>2</th>\n",
       "      <td>2</td>\n",
       "      <td>3</td>\n",
       "      <td>Кольцо c бриллиантами R01-SS-35698B</td>\n",
       "      <td>Артикул R01-SS-35698B</td>\n",
       "      <td>100419</td>\n",
       "      <td>Золото 585</td>\n",
       "      <td>2.40</td>\n",
       "      <td>38  Бриллиантов огранки \"Круглая\" граней - 57,...</td>\n",
       "      <td>https://miuz.ru/catalog/rings/R01-SS-35698B/</td>\n",
       "      <td>NaN</td>\n",
       "      <td>['38  Бриллиантов огранки \"Круглая\" граней - 5...</td>\n",
       "      <td>51</td>\n",
       "      <td>0.570</td>\n",
       "      <td>100.50</td>\n",
       "    </tr>\n",
       "    <tr>\n",
       "      <th>3</th>\n",
       "      <td>3</td>\n",
       "      <td>5</td>\n",
       "      <td>Кольцо c бриллиантами R2022-D-0.17-W</td>\n",
       "      <td>Артикул R2022-D-0.17-W</td>\n",
       "      <td>64019</td>\n",
       "      <td>Золото 585</td>\n",
       "      <td>2.95</td>\n",
       "      <td>11  Бриллиантов огранки \"Круглая\" граней - 57,...</td>\n",
       "      <td>https://miuz.ru/catalog/rings/R2022-D-0.17-W/</td>\n",
       "      <td>NaN</td>\n",
       "      <td>['11  Бриллиантов огранки \"Круглая\" граней - 5...</td>\n",
       "      <td>11</td>\n",
       "      <td>0.147</td>\n",
       "      <td>47.78</td>\n",
       "    </tr>\n",
       "    <tr>\n",
       "      <th>4</th>\n",
       "      <td>4</td>\n",
       "      <td>7</td>\n",
       "      <td>Кольцо c бриллиантом R01-SOL17-010-G2</td>\n",
       "      <td>Артикул R01-SOL17-010-G2</td>\n",
       "      <td>35994</td>\n",
       "      <td>Золото 585</td>\n",
       "      <td>1.49</td>\n",
       "      <td>1  Бриллиант огранки \"Круглая\" граней - 57, ти...</td>\n",
       "      <td>https://miuz.ru/catalog/rings/R01-SOL17-010-G2/</td>\n",
       "      <td>NaN</td>\n",
       "      <td>['1  Бриллиант огранки \"Круглая\" граней - 57, ...</td>\n",
       "      <td>1</td>\n",
       "      <td>0.100</td>\n",
       "      <td>38.00</td>\n",
       "    </tr>\n",
       "  </tbody>\n",
       "</table>\n",
       "</div>"
      ],
      "text/plain": [
       "   Unnamed: 0  index_row                                      h1  \\\n",
       "0           0          0  Кольцо c бриллиантом R01-SOL127-020-G2   \n",
       "1           1          1  Кольцо c бриллиантом R2018-RR010203ADI   \n",
       "2           2          3     Кольцо c бриллиантами R01-SS-35698B   \n",
       "3           3          5    Кольцо c бриллиантами R2022-D-0.17-W   \n",
       "4           4          7   Кольцо c бриллиантом R01-SOL17-010-G2   \n",
       "\n",
       "                         art   price        gold  weight  \\\n",
       "0  Артикул R01-SOL127-020-G2   92394  Золото 585    2.97   \n",
       "1  Артикул R2018-RR010203ADI   27245  Золото 585    2.02   \n",
       "2      Артикул R01-SS-35698B  100419  Золото 585    2.40   \n",
       "3     Артикул R2022-D-0.17-W   64019  Золото 585    2.95   \n",
       "4   Артикул R01-SOL17-010-G2   35994  Золото 585    1.49   \n",
       "\n",
       "                                                gems  \\\n",
       "0  1  Бриллиант огранки \"Круглая\" граней - 57, ти...   \n",
       "1  1  Бриллиант огранки \"Круглая\" граней - 57, ти...   \n",
       "2  38  Бриллиантов огранки \"Круглая\" граней - 57,...   \n",
       "3  11  Бриллиантов огранки \"Круглая\" граней - 57,...   \n",
       "4  1  Бриллиант огранки \"Круглая\" граней - 57, ти...   \n",
       "\n",
       "                                                url  checklog  \\\n",
       "0  https://miuz.ru/catalog/rings/R01-SOL127-020-G2/       NaN   \n",
       "1  https://miuz.ru/catalog/rings/R2018-RR010203ADI/       NaN   \n",
       "2      https://miuz.ru/catalog/rings/R01-SS-35698B/       NaN   \n",
       "3     https://miuz.ru/catalog/rings/R2022-D-0.17-W/       NaN   \n",
       "4   https://miuz.ru/catalog/rings/R01-SOL17-010-G2/       NaN   \n",
       "\n",
       "                                       vstavki_list1  ШТУК  КАРАТ  prcost  \n",
       "0  ['1  Бриллиант огранки \"Круглая\" граней - 57, ...     1  0.190   81.70  \n",
       "1  ['1  Бриллиант огранки \"Круглая\" граней - 57, ...     1  0.045   13.28  \n",
       "2  ['38  Бриллиантов огранки \"Круглая\" граней - 5...    51  0.570  100.50  \n",
       "3  ['11  Бриллиантов огранки \"Круглая\" граней - 5...    11  0.147   47.78  \n",
       "4  ['1  Бриллиант огранки \"Круглая\" граней - 57, ...     1  0.100   38.00  "
      ]
     },
     "execution_count": 4,
     "metadata": {},
     "output_type": "execute_result"
    }
   ],
   "source": [
    "df.head()"
   ]
  },
  {
   "cell_type": "code",
   "execution_count": 10,
   "id": "4a04c1e6",
   "metadata": {},
   "outputs": [
    {
     "data": {
      "text/plain": [
       "Золото 585    1703\n",
       "Золото 750     144\n",
       "Золото 375      41\n",
       "Name: gold, dtype: int64"
      ]
     },
     "execution_count": 10,
     "metadata": {},
     "output_type": "execute_result"
    }
   ],
   "source": [
    "df.gold.value_counts()"
   ]
  },
  {
   "cell_type": "code",
   "execution_count": 13,
   "id": "003a3adf",
   "metadata": {},
   "outputs": [
    {
     "data": {
      "text/plain": [
       "<AxesSubplot:>"
      ]
     },
     "execution_count": 13,
     "metadata": {},
     "output_type": "execute_result"
    },
    {
     "data": {
      "image/png": "[encoded data removed]",
      "text/plain": [
       "<Figure size 360x360 with 1 Axes>"
      ]
     },
     "metadata": {
      "needs_background": "light"
     },
     "output_type": "display_data"
    }
   ],
   "source": [
    "df.gold.hist(figsize=(5,5), legend = True)"
   ]
  },
  {
   "cell_type": "code",
   "execution_count": 16,
   "id": "c98ff189",
   "metadata": {},
   "outputs": [
    {
     "data": {
      "text/plain": [
       "<AxesSubplot:xlabel='gold', ylabel='Percent'>"
      ]
     },
     "execution_count": 16,
     "metadata": {},
     "output_type": "execute_result"
    },
    {
     "data": {
      "image/png": "[encoded data removed]",
      "text/plain": [
       "<Figure size 432x288 with 1 Axes>"
      ]
     },
     "metadata": {
      "needs_background": "light"
     },
     "output_type": "display_data"
    }
   ],
   "source": [
    "sns.histplot(df.gold, stat='percent')"
   ]
  },
  {
   "cell_type": "code",
   "execution_count": 18,
   "id": "d0c4b16b",
   "metadata": {},
   "outputs": [
    {
     "data": {
      "text/plain": [
       "<AxesSubplot:>"
      ]
     },
     "execution_count": 18,
     "metadata": {},
     "output_type": "execute_result"
    },
    {
     "data": {
      "image/png": "[encoded data removed]",
      "text/plain": [
       "<Figure size 432x288 with 1 Axes>"
      ]
     },
     "metadata": {
      "needs_background": "light"
     },
     "output_type": "display_data"
    }
   ],
   "source": [
    "df.weight.hist(legend=True)"
   ]
  },
  {
   "cell_type": "code",
   "execution_count": 19,
   "id": "864909be",
   "metadata": {},
   "outputs": [
    {
     "data": {
      "text/plain": [
       "<AxesSubplot:xlabel='weight', ylabel='Count'>"
      ]
     },
     "execution_count": 19,
     "metadata": {},
     "output_type": "execute_result"
    },
    {
     "data": {
      "image/png": "[encoded data removed]",
      "text/plain": [
       "<Figure size 432x288 with 1 Axes>"
      ]
     },
     "metadata": {
      "needs_background": "light"
     },
     "output_type": "display_data"
    }
   ],
   "source": [
    "sns.histplot(df.weight) #auto cut"
   ]
  },
  {
   "cell_type": "code",
   "execution_count": 28,
   "id": "a772177f",
   "metadata": {},
   "outputs": [],
   "source": [
    "df['weight_bin'] = pd.cut(df.weight, 30)"
   ]
  },
  {
   "cell_type": "code",
   "execution_count": 35,
   "id": "44d791b2",
   "metadata": {},
   "outputs": [
    {
     "data": {
      "text/html": [
       "<div>\n",
       "<style scoped>\n",
       "    .dataframe tbody tr th:only-of-type {\n",
       "        vertical-align: middle;\n",
       "    }\n",
       "\n",
       "    .dataframe tbody tr th {\n",
       "        vertical-align: top;\n",
       "    }\n",
       "\n",
       "    .dataframe thead th {\n",
       "        text-align: right;\n",
       "    }\n",
       "</style>\n",
       "<table border=\"1\" class=\"dataframe\">\n",
       "  <thead>\n",
       "    <tr style=\"text-align: right;\">\n",
       "      <th></th>\n",
       "      <th>count</th>\n",
       "      <th>mean</th>\n",
       "      <th>median</th>\n",
       "      <th>sum</th>\n",
       "    </tr>\n",
       "    <tr>\n",
       "      <th>weight_bin</th>\n",
       "      <th></th>\n",
       "      <th></th>\n",
       "      <th></th>\n",
       "      <th></th>\n",
       "    </tr>\n",
       "  </thead>\n",
       "  <tbody>\n",
       "    <tr>\n",
       "      <th>(0.821, 1.484]</th>\n",
       "      <td>150</td>\n",
       "      <td>1.294667</td>\n",
       "      <td>1.310</td>\n",
       "      <td>194.20</td>\n",
       "    </tr>\n",
       "    <tr>\n",
       "      <th>(1.484, 2.129]</th>\n",
       "      <td>490</td>\n",
       "      <td>1.835551</td>\n",
       "      <td>1.860</td>\n",
       "      <td>899.42</td>\n",
       "    </tr>\n",
       "    <tr>\n",
       "      <th>(2.129, 2.773]</th>\n",
       "      <td>508</td>\n",
       "      <td>2.433642</td>\n",
       "      <td>2.415</td>\n",
       "      <td>1236.29</td>\n",
       "    </tr>\n",
       "    <tr>\n",
       "      <th>(2.773, 3.417]</th>\n",
       "      <td>292</td>\n",
       "      <td>3.069075</td>\n",
       "      <td>3.050</td>\n",
       "      <td>896.17</td>\n",
       "    </tr>\n",
       "    <tr>\n",
       "      <th>(3.417, 4.062]</th>\n",
       "      <td>154</td>\n",
       "      <td>3.728312</td>\n",
       "      <td>3.705</td>\n",
       "      <td>574.16</td>\n",
       "    </tr>\n",
       "    <tr>\n",
       "      <th>(4.062, 4.706]</th>\n",
       "      <td>119</td>\n",
       "      <td>4.326471</td>\n",
       "      <td>4.320</td>\n",
       "      <td>514.85</td>\n",
       "    </tr>\n",
       "    <tr>\n",
       "      <th>(4.706, 5.35]</th>\n",
       "      <td>50</td>\n",
       "      <td>5.003200</td>\n",
       "      <td>4.955</td>\n",
       "      <td>250.16</td>\n",
       "    </tr>\n",
       "    <tr>\n",
       "      <th>(5.35, 5.995]</th>\n",
       "      <td>47</td>\n",
       "      <td>5.693404</td>\n",
       "      <td>5.670</td>\n",
       "      <td>267.59</td>\n",
       "    </tr>\n",
       "    <tr>\n",
       "      <th>(5.995, 6.639]</th>\n",
       "      <td>20</td>\n",
       "      <td>6.332000</td>\n",
       "      <td>6.290</td>\n",
       "      <td>126.64</td>\n",
       "    </tr>\n",
       "    <tr>\n",
       "      <th>(6.639, 7.283]</th>\n",
       "      <td>15</td>\n",
       "      <td>6.980667</td>\n",
       "      <td>6.980</td>\n",
       "      <td>104.71</td>\n",
       "    </tr>\n",
       "    <tr>\n",
       "      <th>(7.283, 7.928]</th>\n",
       "      <td>9</td>\n",
       "      <td>7.531111</td>\n",
       "      <td>7.400</td>\n",
       "      <td>67.78</td>\n",
       "    </tr>\n",
       "    <tr>\n",
       "      <th>(7.928, 8.572]</th>\n",
       "      <td>5</td>\n",
       "      <td>8.178000</td>\n",
       "      <td>8.150</td>\n",
       "      <td>40.89</td>\n",
       "    </tr>\n",
       "    <tr>\n",
       "      <th>(8.572, 9.216]</th>\n",
       "      <td>4</td>\n",
       "      <td>8.752500</td>\n",
       "      <td>8.740</td>\n",
       "      <td>35.01</td>\n",
       "    </tr>\n",
       "    <tr>\n",
       "      <th>(9.216, 9.861]</th>\n",
       "      <td>8</td>\n",
       "      <td>9.472500</td>\n",
       "      <td>9.465</td>\n",
       "      <td>75.78</td>\n",
       "    </tr>\n",
       "    <tr>\n",
       "      <th>(9.861, 10.505]</th>\n",
       "      <td>5</td>\n",
       "      <td>10.212000</td>\n",
       "      <td>10.160</td>\n",
       "      <td>51.06</td>\n",
       "    </tr>\n",
       "    <tr>\n",
       "      <th>(10.505, 11.149]</th>\n",
       "      <td>2</td>\n",
       "      <td>10.780000</td>\n",
       "      <td>10.780</td>\n",
       "      <td>21.56</td>\n",
       "    </tr>\n",
       "    <tr>\n",
       "      <th>(11.149, 11.794]</th>\n",
       "      <td>2</td>\n",
       "      <td>11.430000</td>\n",
       "      <td>11.430</td>\n",
       "      <td>22.86</td>\n",
       "    </tr>\n",
       "    <tr>\n",
       "      <th>(11.794, 12.438]</th>\n",
       "      <td>2</td>\n",
       "      <td>12.210000</td>\n",
       "      <td>12.210</td>\n",
       "      <td>24.42</td>\n",
       "    </tr>\n",
       "    <tr>\n",
       "      <th>(12.438, 13.082]</th>\n",
       "      <td>0</td>\n",
       "      <td>NaN</td>\n",
       "      <td>NaN</td>\n",
       "      <td>0.00</td>\n",
       "    </tr>\n",
       "    <tr>\n",
       "      <th>(13.082, 13.727]</th>\n",
       "      <td>2</td>\n",
       "      <td>13.100000</td>\n",
       "      <td>13.100</td>\n",
       "      <td>26.20</td>\n",
       "    </tr>\n",
       "    <tr>\n",
       "      <th>(13.727, 14.371]</th>\n",
       "      <td>0</td>\n",
       "      <td>NaN</td>\n",
       "      <td>NaN</td>\n",
       "      <td>0.00</td>\n",
       "    </tr>\n",
       "    <tr>\n",
       "      <th>(14.371, 15.015]</th>\n",
       "      <td>2</td>\n",
       "      <td>14.870000</td>\n",
       "      <td>14.870</td>\n",
       "      <td>29.74</td>\n",
       "    </tr>\n",
       "    <tr>\n",
       "      <th>(15.015, 15.66]</th>\n",
       "      <td>1</td>\n",
       "      <td>15.360000</td>\n",
       "      <td>15.360</td>\n",
       "      <td>15.36</td>\n",
       "    </tr>\n",
       "    <tr>\n",
       "      <th>(15.66, 16.304]</th>\n",
       "      <td>0</td>\n",
       "      <td>NaN</td>\n",
       "      <td>NaN</td>\n",
       "      <td>0.00</td>\n",
       "    </tr>\n",
       "    <tr>\n",
       "      <th>(16.304, 16.948]</th>\n",
       "      <td>0</td>\n",
       "      <td>NaN</td>\n",
       "      <td>NaN</td>\n",
       "      <td>0.00</td>\n",
       "    </tr>\n",
       "    <tr>\n",
       "      <th>(16.948, 17.593]</th>\n",
       "      <td>0</td>\n",
       "      <td>NaN</td>\n",
       "      <td>NaN</td>\n",
       "      <td>0.00</td>\n",
       "    </tr>\n",
       "    <tr>\n",
       "      <th>(17.593, 18.237]</th>\n",
       "      <td>0</td>\n",
       "      <td>NaN</td>\n",
       "      <td>NaN</td>\n",
       "      <td>0.00</td>\n",
       "    </tr>\n",
       "    <tr>\n",
       "      <th>(18.237, 18.881]</th>\n",
       "      <td>0</td>\n",
       "      <td>NaN</td>\n",
       "      <td>NaN</td>\n",
       "      <td>0.00</td>\n",
       "    </tr>\n",
       "    <tr>\n",
       "      <th>(18.881, 19.526]</th>\n",
       "      <td>0</td>\n",
       "      <td>NaN</td>\n",
       "      <td>NaN</td>\n",
       "      <td>0.00</td>\n",
       "    </tr>\n",
       "    <tr>\n",
       "      <th>(19.526, 20.17]</th>\n",
       "      <td>1</td>\n",
       "      <td>20.170000</td>\n",
       "      <td>20.170</td>\n",
       "      <td>20.17</td>\n",
       "    </tr>\n",
       "  </tbody>\n",
       "</table>\n",
       "</div>"
      ],
      "text/plain": [
       "                  count       mean  median      sum\n",
       "weight_bin                                         \n",
       "(0.821, 1.484]      150   1.294667   1.310   194.20\n",
       "(1.484, 2.129]      490   1.835551   1.860   899.42\n",
       "(2.129, 2.773]      508   2.433642   2.415  1236.29\n",
       "(2.773, 3.417]      292   3.069075   3.050   896.17\n",
       "(3.417, 4.062]      154   3.728312   3.705   574.16\n",
       "(4.062, 4.706]      119   4.326471   4.320   514.85\n",
       "(4.706, 5.35]        50   5.003200   4.955   250.16\n",
       "(5.35, 5.995]        47   5.693404   5.670   267.59\n",
       "(5.995, 6.639]       20   6.332000   6.290   126.64\n",
       "(6.639, 7.283]       15   6.980667   6.980   104.71\n",
       "(7.283, 7.928]        9   7.531111   7.400    67.78\n",
       "(7.928, 8.572]        5   8.178000   8.150    40.89\n",
       "(8.572, 9.216]        4   8.752500   8.740    35.01\n",
       "(9.216, 9.861]        8   9.472500   9.465    75.78\n",
       "(9.861, 10.505]       5  10.212000  10.160    51.06\n",
       "(10.505, 11.149]      2  10.780000  10.780    21.56\n",
       "(11.149, 11.794]      2  11.430000  11.430    22.86\n",
       "(11.794, 12.438]      2  12.210000  12.210    24.42\n",
       "(12.438, 13.082]      0        NaN     NaN     0.00\n",
       "(13.082, 13.727]      2  13.100000  13.100    26.20\n",
       "(13.727, 14.371]      0        NaN     NaN     0.00\n",
       "(14.371, 15.015]      2  14.870000  14.870    29.74\n",
       "(15.015, 15.66]       1  15.360000  15.360    15.36\n",
       "(15.66, 16.304]       0        NaN     NaN     0.00\n",
       "(16.304, 16.948]      0        NaN     NaN     0.00\n",
       "(16.948, 17.593]      0        NaN     NaN     0.00\n",
       "(17.593, 18.237]      0        NaN     NaN     0.00\n",
       "(18.237, 18.881]      0        NaN     NaN     0.00\n",
       "(18.881, 19.526]      0        NaN     NaN     0.00\n",
       "(19.526, 20.17]       1  20.170000  20.170    20.17"
      ]
     },
     "execution_count": 35,
     "metadata": {},
     "output_type": "execute_result"
    }
   ],
   "source": [
    "df.groupby(by='weight_bin')['weight'].agg(['count','mean','median','sum'])"
   ]
  },
  {
   "cell_type": "code",
   "execution_count": 42,
   "id": "ee909e1f",
   "metadata": {},
   "outputs": [
    {
     "data": {
      "text/plain": [
       "(2.910497881355932, 2.48, 5495.02, 1888)"
      ]
     },
     "execution_count": 42,
     "metadata": {},
     "output_type": "execute_result"
    }
   ],
   "source": [
    "df.weight.mean(), df.weight.median(), df.weight.sum(), df.weight.count()"
   ]
  },
  {
   "cell_type": "code",
   "execution_count": null,
   "id": "1dac1800",
   "metadata": {},
   "outputs": [],
   "source": [
    "#mode top 1 "
   ]
  },
  {
   "cell_type": "code",
   "execution_count": 43,
   "id": "f0afe107",
   "metadata": {},
   "outputs": [
    {
     "data": {
      "text/html": [
       "<div>\n",
       "<style scoped>\n",
       "    .dataframe tbody tr th:only-of-type {\n",
       "        vertical-align: middle;\n",
       "    }\n",
       "\n",
       "    .dataframe tbody tr th {\n",
       "        vertical-align: top;\n",
       "    }\n",
       "\n",
       "    .dataframe thead th {\n",
       "        text-align: right;\n",
       "    }\n",
       "</style>\n",
       "<table border=\"1\" class=\"dataframe\">\n",
       "  <thead>\n",
       "    <tr style=\"text-align: right;\">\n",
       "      <th></th>\n",
       "      <th>Unnamed: 0</th>\n",
       "      <th>index_row</th>\n",
       "      <th>price</th>\n",
       "      <th>weight</th>\n",
       "      <th>checklog</th>\n",
       "      <th>ШТУК</th>\n",
       "      <th>КАРАТ</th>\n",
       "      <th>prcost</th>\n",
       "    </tr>\n",
       "  </thead>\n",
       "  <tbody>\n",
       "    <tr>\n",
       "      <th>median</th>\n",
       "      <td>943.5</td>\n",
       "      <td>2073.500000</td>\n",
       "      <td>57995.000000</td>\n",
       "      <td>2.480000</td>\n",
       "      <td>NaN</td>\n",
       "      <td>17.000000</td>\n",
       "      <td>0.190000</td>\n",
       "      <td>66.075000</td>\n",
       "    </tr>\n",
       "    <tr>\n",
       "      <th>mean</th>\n",
       "      <td>943.5</td>\n",
       "      <td>2072.844809</td>\n",
       "      <td>105042.577331</td>\n",
       "      <td>2.910498</td>\n",
       "      <td>NaN</td>\n",
       "      <td>28.114936</td>\n",
       "      <td>0.335534</td>\n",
       "      <td>157.802474</td>\n",
       "    </tr>\n",
       "  </tbody>\n",
       "</table>\n",
       "</div>"
      ],
      "text/plain": [
       "        Unnamed: 0    index_row          price    weight  checklog       ШТУК  \\\n",
       "median       943.5  2073.500000   57995.000000  2.480000       NaN  17.000000   \n",
       "mean         943.5  2072.844809  105042.577331  2.910498       NaN  28.114936   \n",
       "\n",
       "           КАРАТ      prcost  \n",
       "median  0.190000   66.075000  \n",
       "mean    0.335534  157.802474  "
      ]
     },
     "execution_count": 43,
     "metadata": {},
     "output_type": "execute_result"
    }
   ],
   "source": [
    "df.agg(['median','mean'])"
   ]
  },
  {
   "cell_type": "code",
   "execution_count": 44,
   "id": "b2cb928b",
   "metadata": {},
   "outputs": [
    {
     "data": {
      "text/plain": [
       "<AxesSubplot:xlabel='ШТУК', ylabel='Count'>"
      ]
     },
     "execution_count": 44,
     "metadata": {},
     "output_type": "execute_result"
    },
    {
     "data": {
      "image/png": "[encoded data removed]",
      "text/plain": [
       "<Figure size 432x288 with 1 Axes>"
      ]
     },
     "metadata": {
      "needs_background": "light"
     },
     "output_type": "display_data"
    }
   ],
   "source": [
    "sns.histplot(df.ШТУК)"
   ]
  },
  {
   "cell_type": "code",
   "execution_count": 46,
   "id": "9a8568c9",
   "metadata": {},
   "outputs": [
    {
     "data": {
      "text/plain": [
       "17.0"
      ]
     },
     "execution_count": 46,
     "metadata": {},
     "output_type": "execute_result"
    }
   ],
   "source": [
    "df.ШТУК.quantile(0.5)"
   ]
  },
  {
   "cell_type": "code",
   "execution_count": 51,
   "id": "e3bc437e",
   "metadata": {},
   "outputs": [
    {
     "data": {
      "text/html": [
       "<div>\n",
       "<style scoped>\n",
       "    .dataframe tbody tr th:only-of-type {\n",
       "        vertical-align: middle;\n",
       "    }\n",
       "\n",
       "    .dataframe tbody tr th {\n",
       "        vertical-align: top;\n",
       "    }\n",
       "\n",
       "    .dataframe thead th {\n",
       "        text-align: right;\n",
       "    }\n",
       "</style>\n",
       "<table border=\"1\" class=\"dataframe\">\n",
       "  <thead>\n",
       "    <tr style=\"text-align: right;\">\n",
       "      <th></th>\n",
       "      <th>price</th>\n",
       "      <th>weight</th>\n",
       "      <th>ШТУК</th>\n",
       "      <th>КАРАТ</th>\n",
       "      <th>prcost</th>\n",
       "    </tr>\n",
       "  </thead>\n",
       "  <tbody>\n",
       "    <tr>\n",
       "      <th>0.25</th>\n",
       "      <td>38245.0</td>\n",
       "      <td>1.9400</td>\n",
       "      <td>5.0</td>\n",
       "      <td>0.10</td>\n",
       "      <td>33.7175</td>\n",
       "    </tr>\n",
       "    <tr>\n",
       "      <th>0.50</th>\n",
       "      <td>57995.0</td>\n",
       "      <td>2.4800</td>\n",
       "      <td>17.0</td>\n",
       "      <td>0.19</td>\n",
       "      <td>66.0750</td>\n",
       "    </tr>\n",
       "    <tr>\n",
       "      <th>0.75</th>\n",
       "      <td>97995.0</td>\n",
       "      <td>3.3425</td>\n",
       "      <td>37.0</td>\n",
       "      <td>0.38</td>\n",
       "      <td>132.7350</td>\n",
       "    </tr>\n",
       "  </tbody>\n",
       "</table>\n",
       "</div>"
      ],
      "text/plain": [
       "        price  weight  ШТУК  КАРАТ    prcost\n",
       "0.25  38245.0  1.9400   5.0   0.10   33.7175\n",
       "0.50  57995.0  2.4800  17.0   0.19   66.0750\n",
       "0.75  97995.0  3.3425  37.0   0.38  132.7350"
      ]
     },
     "execution_count": 51,
     "metadata": {},
     "output_type": "execute_result"
    }
   ],
   "source": [
    "#qvartil\n",
    "df[['price','weight','ШТУК','КАРАТ','prcost']].quantile([0.25,0.50,0.75])"
   ]
  },
  {
   "cell_type": "code",
   "execution_count": 57,
   "id": "14cf71eb",
   "metadata": {},
   "outputs": [],
   "source": [
    "df['weight_rank'] = df.weight.rank()#pct=True)"
   ]
  },
  {
   "cell_type": "code",
   "execution_count": 58,
   "id": "99ed9a23",
   "metadata": {},
   "outputs": [
    {
     "data": {
      "text/html": [
       "<div>\n",
       "<style scoped>\n",
       "    .dataframe tbody tr th:only-of-type {\n",
       "        vertical-align: middle;\n",
       "    }\n",
       "\n",
       "    .dataframe tbody tr th {\n",
       "        vertical-align: top;\n",
       "    }\n",
       "\n",
       "    .dataframe thead th {\n",
       "        text-align: right;\n",
       "    }\n",
       "</style>\n",
       "<table border=\"1\" class=\"dataframe\">\n",
       "  <thead>\n",
       "    <tr style=\"text-align: right;\">\n",
       "      <th></th>\n",
       "      <th>weight</th>\n",
       "      <th>rank</th>\n",
       "      <th>weight_rank</th>\n",
       "    </tr>\n",
       "  </thead>\n",
       "  <tbody>\n",
       "    <tr>\n",
       "      <th>648</th>\n",
       "      <td>0.84</td>\n",
       "      <td>0.000530</td>\n",
       "      <td>1.0</td>\n",
       "    </tr>\n",
       "    <tr>\n",
       "      <th>1294</th>\n",
       "      <td>0.86</td>\n",
       "      <td>0.001059</td>\n",
       "      <td>2.0</td>\n",
       "    </tr>\n",
       "    <tr>\n",
       "      <th>307</th>\n",
       "      <td>0.91</td>\n",
       "      <td>0.001589</td>\n",
       "      <td>3.0</td>\n",
       "    </tr>\n",
       "    <tr>\n",
       "      <th>1565</th>\n",
       "      <td>0.92</td>\n",
       "      <td>0.002119</td>\n",
       "      <td>4.0</td>\n",
       "    </tr>\n",
       "    <tr>\n",
       "      <th>1828</th>\n",
       "      <td>0.98</td>\n",
       "      <td>0.002913</td>\n",
       "      <td>5.5</td>\n",
       "    </tr>\n",
       "    <tr>\n",
       "      <th>...</th>\n",
       "      <td>...</td>\n",
       "      <td>...</td>\n",
       "      <td>...</td>\n",
       "    </tr>\n",
       "    <tr>\n",
       "      <th>1501</th>\n",
       "      <td>13.11</td>\n",
       "      <td>0.997881</td>\n",
       "      <td>1884.0</td>\n",
       "    </tr>\n",
       "    <tr>\n",
       "      <th>376</th>\n",
       "      <td>14.78</td>\n",
       "      <td>0.998411</td>\n",
       "      <td>1885.0</td>\n",
       "    </tr>\n",
       "    <tr>\n",
       "      <th>628</th>\n",
       "      <td>14.96</td>\n",
       "      <td>0.998941</td>\n",
       "      <td>1886.0</td>\n",
       "    </tr>\n",
       "    <tr>\n",
       "      <th>381</th>\n",
       "      <td>15.36</td>\n",
       "      <td>0.999470</td>\n",
       "      <td>1887.0</td>\n",
       "    </tr>\n",
       "    <tr>\n",
       "      <th>676</th>\n",
       "      <td>20.17</td>\n",
       "      <td>1.000000</td>\n",
       "      <td>1888.0</td>\n",
       "    </tr>\n",
       "  </tbody>\n",
       "</table>\n",
       "<p>1888 rows × 3 columns</p>\n",
       "</div>"
      ],
      "text/plain": [
       "      weight      rank  weight_rank\n",
       "648     0.84  0.000530          1.0\n",
       "1294    0.86  0.001059          2.0\n",
       "307     0.91  0.001589          3.0\n",
       "1565    0.92  0.002119          4.0\n",
       "1828    0.98  0.002913          5.5\n",
       "...      ...       ...          ...\n",
       "1501   13.11  0.997881       1884.0\n",
       "376    14.78  0.998411       1885.0\n",
       "628    14.96  0.998941       1886.0\n",
       "381    15.36  0.999470       1887.0\n",
       "676    20.17  1.000000       1888.0\n",
       "\n",
       "[1888 rows x 3 columns]"
      ]
     },
     "execution_count": 58,
     "metadata": {},
     "output_type": "execute_result"
    }
   ],
   "source": [
    "df[['weight','rank','weight_rank']].sort_values(by='rank')"
   ]
  },
  {
   "cell_type": "code",
   "execution_count": 61,
   "id": "a4f6bdda",
   "metadata": {},
   "outputs": [
    {
     "data": {
      "text/plain": [
       "0.00211864406779661"
      ]
     },
     "execution_count": 61,
     "metadata": {},
     "output_type": "execute_result"
    }
   ],
   "source": [
    "#you need testing\n",
    "(df.weight < 0.98).mean()"
   ]
  },
  {
   "cell_type": "markdown",
   "id": "2c247b1d",
   "metadata": {},
   "source": [
    "## boxplot\n",
    "График «ящик с усами», или «ящичковая диаграмма», был разработан Джоном Тьюки в 1970-х годах. По сути, ящик с усами — это быстрый способ изучения одного или нескольких наборов данных в графическом виде.\n",
    "\n",
    "\n",
    "\n",
    "sns.boxplot(x=dataframe[\"day\"], y=DMC) х - для категориальных переменных н для непрерывных\n",
    "\n",
    "IQR (от слов Interquartile range).\n",
    "\n",
    "Таким образом, IQR =Q3-Q1\n",
    "а усы "
   ]
  },
  {
   "cell_type": "code",
   "execution_count": 62,
   "id": "73138672",
   "metadata": {},
   "outputs": [
    {
     "data": {
      "text/plain": [
       "<AxesSubplot:>"
      ]
     },
     "execution_count": 62,
     "metadata": {},
     "output_type": "execute_result"
    },
    {
     "data": {
      "image/png": "[encoded data removed]",
      "text/plain": [
       "<Figure size 432x288 with 1 Axes>"
      ]
     },
     "metadata": {
      "needs_background": "light"
     },
     "output_type": "display_data"
    }
   ],
   "source": [
    "\n",
    "df.boxplot('weight')"
   ]
  },
  {
   "cell_type": "code",
   "execution_count": 63,
   "id": "c7c0bce0",
   "metadata": {},
   "outputs": [
    {
     "data": {
      "text/plain": [
       "<AxesSubplot:>"
      ]
     },
     "execution_count": 63,
     "metadata": {},
     "output_type": "execute_result"
    },
    {
     "data": {
      "image/png": "[encoded data removed]",
      "text/plain": [
       "<Figure size 432x288 with 1 Axes>"
      ]
     },
     "metadata": {
      "needs_background": "light"
     },
     "output_type": "display_data"
    }
   ],
   "source": [
    "df.boxplot('ШТУК')"
   ]
  },
  {
   "cell_type": "code",
   "execution_count": 83,
   "id": "c0466694",
   "metadata": {},
   "outputs": [
    {
     "data": {
      "text/plain": [
       "<AxesSubplot:>"
      ]
     },
     "execution_count": 83,
     "metadata": {},
     "output_type": "execute_result"
    },
    {
     "data": {
      "image/png": "[encoded data removed]",
      "text/plain": [
       "<Figure size 432x288 with 1 Axes>"
      ]
     },
     "metadata": {
      "needs_background": "light"
     },
     "output_type": "display_data"
    }
   ],
   "source": [
    "sns.boxplot(х=df.weight)"
   ]
  },
  {
   "cell_type": "code",
   "execution_count": 84,
   "id": "3b26a9bc",
   "metadata": {},
   "outputs": [
    {
     "name": "stderr",
     "output_type": "stream",
     "text": [
      "C:\\Users\\diva0\\anaconda3\\lib\\site-packages\\seaborn\\_decorators.py:36: FutureWarning: Pass the following variable as a keyword arg: x. From version 0.12, the only valid positional argument will be `data`, and passing other arguments without an explicit keyword will result in an error or misinterpretation.\n",
      "  warnings.warn(\n"
     ]
    },
    {
     "data": {
      "text/plain": [
       "<AxesSubplot:xlabel='weight'>"
      ]
     },
     "execution_count": 84,
     "metadata": {},
     "output_type": "execute_result"
    },
    {
     "data": {
      "image/png": "[encoded data removed]",
      "text/plain": [
       "<Figure size 432x288 with 1 Axes>"
      ]
     },
     "metadata": {
      "needs_background": "light"
     },
     "output_type": "display_data"
    }
   ],
   "source": [
    "sns.boxplot(df.weight)"
   ]
  },
  {
   "cell_type": "code",
   "execution_count": 85,
   "id": "42483acd",
   "metadata": {},
   "outputs": [
    {
     "data": {
      "text/plain": [
       "count    1888.000000\n",
       "mean        2.910498\n",
       "std         1.630794\n",
       "min         0.840000\n",
       "25%         1.940000\n",
       "50%         2.480000\n",
       "75%         3.342500\n",
       "max        20.170000\n",
       "Name: weight, dtype: float64"
      ]
     },
     "execution_count": 85,
     "metadata": {},
     "output_type": "execute_result"
    }
   ],
   "source": [
    "df.weight.describe()"
   ]
  },
  {
   "cell_type": "code",
   "execution_count": 73,
   "id": "17463d22",
   "metadata": {},
   "outputs": [
    {
     "data": {
      "text/plain": [
       "<AxesSubplot:xlabel='weight', ylabel='Count'>"
      ]
     },
     "execution_count": 73,
     "metadata": {},
     "output_type": "execute_result"
    },
    {
     "data": {
      "image/png": "[encoded data removed]",
      "text/plain": [
       "<Figure size 432x288 with 1 Axes>"
      ]
     },
     "metadata": {
      "needs_background": "light"
     },
     "output_type": "display_data"
    }
   ],
   "source": [
    "sns.histplot(df.weight)"
   ]
  },
  {
   "cell_type": "code",
   "execution_count": 72,
   "id": "2232e0ad",
   "metadata": {},
   "outputs": [],
   "source": [
    "sns.boxplot?"
   ]
  },
  {
   "cell_type": "markdown",
   "id": "f875909a",
   "metadata": {},
   "source": [
    "## STD"
   ]
  },
  {
   "cell_type": "code",
   "execution_count": 93,
   "id": "a6bdb1dc",
   "metadata": {},
   "outputs": [
    {
     "data": {
      "text/plain": [
       "3.763467880085276e-17"
      ]
     },
     "execution_count": 93,
     "metadata": {},
     "output_type": "execute_result"
    }
   ],
   "source": [
    "(df.weight-df.weight.mean()).mean()"
   ]
  },
  {
   "cell_type": "code",
   "execution_count": 94,
   "id": "77f78981",
   "metadata": {},
   "outputs": [],
   "source": [
    "#pandas turn off scientific notation\n",
    "pd.set_option('display.float_format', lambda x: '%.3f' % x)"
   ]
  },
  {
   "cell_type": "code",
   "execution_count": 97,
   "id": "79f59d95",
   "metadata": {},
   "outputs": [
    {
     "data": {
      "text/plain": [
       "1.0771105869362263"
      ]
     },
     "execution_count": 97,
     "metadata": {},
     "output_type": "execute_result"
    }
   ],
   "source": [
    "(df.weight-df.weight.mean()).abs().mean()"
   ]
  },
  {
   "cell_type": "code",
   "execution_count": 98,
   "id": "f2c33d30",
   "metadata": {},
   "outputs": [
    {
     "data": {
      "text/plain": [
       "1.6307940741035256"
      ]
     },
     "execution_count": 98,
     "metadata": {},
     "output_type": "execute_result"
    }
   ],
   "source": [
    "df.weight.std()"
   ]
  },
  {
   "cell_type": "code",
   "execution_count": 103,
   "id": "c1f4f31b",
   "metadata": {},
   "outputs": [
    {
     "data": {
      "text/plain": [
       "1.6303621328764806"
      ]
     },
     "execution_count": 103,
     "metadata": {},
     "output_type": "execute_result"
    }
   ],
   "source": [
    "np.sqrt(((df.weight-df.weight.mean())**2).mean())"
   ]
  },
  {
   "cell_type": "code",
   "execution_count": 106,
   "id": "08f97ea5",
   "metadata": {},
   "outputs": [
    {
     "data": {
      "text/plain": [
       "1.6307940741035252"
      ]
     },
     "execution_count": 106,
     "metadata": {},
     "output_type": "execute_result"
    }
   ],
   "source": [
    "#std для выборки\n",
    "np.sqrt(((df.weight-df.weight.mean())**2).sum()/(len(df)-1))"
   ]
  },
  {
   "cell_type": "code",
   "execution_count": 107,
   "id": "d38643f3",
   "metadata": {},
   "outputs": [
    {
     "data": {
      "text/plain": [
       "<AxesSubplot:xlabel='weight', ylabel='Count'>"
      ]
     },
     "execution_count": 107,
     "metadata": {},
     "output_type": "execute_result"
    },
    {
     "data": {
      "image/png": "[encoded data removed]",
      "text/plain": [
       "<Figure size 432x288 with 1 Axes>"
      ]
     },
     "metadata": {
      "needs_background": "light"
     },
     "output_type": "display_data"
    }
   ],
   "source": [
    "sns.histplot(df.weight)"
   ]
  },
  {
   "cell_type": "code",
   "execution_count": null,
   "id": "f337d1fb",
   "metadata": {},
   "outputs": [],
   "source": [
    "#Корреляция - степень линейной связи"
   ]
  },
  {
   "cell_type": "code",
   "execution_count": 112,
   "id": "dc4fd827",
   "metadata": {},
   "outputs": [
    {
     "data": {
      "text/html": [
       "<div>\n",
       "<style scoped>\n",
       "    .dataframe tbody tr th:only-of-type {\n",
       "        vertical-align: middle;\n",
       "    }\n",
       "\n",
       "    .dataframe tbody tr th {\n",
       "        vertical-align: top;\n",
       "    }\n",
       "\n",
       "    .dataframe thead th {\n",
       "        text-align: right;\n",
       "    }\n",
       "</style>\n",
       "<table border=\"1\" class=\"dataframe\">\n",
       "  <thead>\n",
       "    <tr style=\"text-align: right;\">\n",
       "      <th></th>\n",
       "      <th>index_row</th>\n",
       "      <th>price</th>\n",
       "      <th>weight</th>\n",
       "      <th>ШТУК</th>\n",
       "      <th>КАРАТ</th>\n",
       "      <th>prcost</th>\n",
       "      <th>weight_rank</th>\n",
       "    </tr>\n",
       "  </thead>\n",
       "  <tbody>\n",
       "    <tr>\n",
       "      <th>index_row</th>\n",
       "      <td>1.000</td>\n",
       "      <td>-0.034</td>\n",
       "      <td>-0.019</td>\n",
       "      <td>-0.030</td>\n",
       "      <td>-0.052</td>\n",
       "      <td>-0.028</td>\n",
       "      <td>-0.012</td>\n",
       "    </tr>\n",
       "    <tr>\n",
       "      <th>price</th>\n",
       "      <td>-0.034</td>\n",
       "      <td>1.000</td>\n",
       "      <td>0.576</td>\n",
       "      <td>0.391</td>\n",
       "      <td>0.806</td>\n",
       "      <td>0.864</td>\n",
       "      <td>0.464</td>\n",
       "    </tr>\n",
       "    <tr>\n",
       "      <th>weight</th>\n",
       "      <td>-0.019</td>\n",
       "      <td>0.576</td>\n",
       "      <td>1.000</td>\n",
       "      <td>0.665</td>\n",
       "      <td>0.656</td>\n",
       "      <td>0.347</td>\n",
       "      <td>0.802</td>\n",
       "    </tr>\n",
       "    <tr>\n",
       "      <th>ШТУК</th>\n",
       "      <td>-0.030</td>\n",
       "      <td>0.391</td>\n",
       "      <td>0.665</td>\n",
       "      <td>1.000</td>\n",
       "      <td>0.614</td>\n",
       "      <td>0.238</td>\n",
       "      <td>0.474</td>\n",
       "    </tr>\n",
       "    <tr>\n",
       "      <th>КАРАТ</th>\n",
       "      <td>-0.052</td>\n",
       "      <td>0.806</td>\n",
       "      <td>0.656</td>\n",
       "      <td>0.614</td>\n",
       "      <td>1.000</td>\n",
       "      <td>0.624</td>\n",
       "      <td>0.515</td>\n",
       "    </tr>\n",
       "    <tr>\n",
       "      <th>prcost</th>\n",
       "      <td>-0.028</td>\n",
       "      <td>0.864</td>\n",
       "      <td>0.347</td>\n",
       "      <td>0.238</td>\n",
       "      <td>0.624</td>\n",
       "      <td>1.000</td>\n",
       "      <td>0.300</td>\n",
       "    </tr>\n",
       "    <tr>\n",
       "      <th>weight_rank</th>\n",
       "      <td>-0.012</td>\n",
       "      <td>0.464</td>\n",
       "      <td>0.802</td>\n",
       "      <td>0.474</td>\n",
       "      <td>0.515</td>\n",
       "      <td>0.300</td>\n",
       "      <td>1.000</td>\n",
       "    </tr>\n",
       "  </tbody>\n",
       "</table>\n",
       "</div>"
      ],
      "text/plain": [
       "             index_row  price  weight   ШТУК  КАРАТ  prcost  weight_rank\n",
       "index_row        1.000 -0.034  -0.019 -0.030 -0.052  -0.028       -0.012\n",
       "price           -0.034  1.000   0.576  0.391  0.806   0.864        0.464\n",
       "weight          -0.019  0.576   1.000  0.665  0.656   0.347        0.802\n",
       "ШТУК            -0.030  0.391   0.665  1.000  0.614   0.238        0.474\n",
       "КАРАТ           -0.052  0.806   0.656  0.614  1.000   0.624        0.515\n",
       "prcost          -0.028  0.864   0.347  0.238  0.624   1.000        0.300\n",
       "weight_rank     -0.012  0.464   0.802  0.474  0.515   0.300        1.000"
      ]
     },
     "execution_count": 112,
     "metadata": {},
     "output_type": "execute_result"
    }
   ],
   "source": [
    "df.corr()"
   ]
  },
  {
   "cell_type": "code",
   "execution_count": 111,
   "id": "db41ff73",
   "metadata": {},
   "outputs": [],
   "source": [
    "df.drop(columns=['rank', 'checklog','Unnamed: 0' ], inplace=True)"
   ]
  },
  {
   "cell_type": "code",
   "execution_count": 124,
   "id": "7383c5f1",
   "metadata": {},
   "outputs": [
    {
     "data": {
      "text/html": [
       "<div>\n",
       "<style scoped>\n",
       "    .dataframe tbody tr th:only-of-type {\n",
       "        vertical-align: middle;\n",
       "    }\n",
       "\n",
       "    .dataframe tbody tr th {\n",
       "        vertical-align: top;\n",
       "    }\n",
       "\n",
       "    .dataframe thead th {\n",
       "        text-align: right;\n",
       "    }\n",
       "</style>\n",
       "<table border=\"1\" class=\"dataframe\">\n",
       "  <thead>\n",
       "    <tr style=\"text-align: right;\">\n",
       "      <th></th>\n",
       "      <th>count</th>\n",
       "      <th>mean</th>\n",
       "      <th>median</th>\n",
       "    </tr>\n",
       "    <tr>\n",
       "      <th>weight_bin</th>\n",
       "      <th></th>\n",
       "      <th></th>\n",
       "      <th></th>\n",
       "    </tr>\n",
       "  </thead>\n",
       "  <tbody>\n",
       "    <tr>\n",
       "      <th>(0.821, 1.484]</th>\n",
       "      <td>150</td>\n",
       "      <td>28729.720</td>\n",
       "      <td>21995.000</td>\n",
       "    </tr>\n",
       "    <tr>\n",
       "      <th>(1.484, 2.129]</th>\n",
       "      <td>490</td>\n",
       "      <td>49435.127</td>\n",
       "      <td>37745.000</td>\n",
       "    </tr>\n",
       "    <tr>\n",
       "      <th>(2.129, 2.773]</th>\n",
       "      <td>508</td>\n",
       "      <td>80555.419</td>\n",
       "      <td>53240.000</td>\n",
       "    </tr>\n",
       "    <tr>\n",
       "      <th>(2.773, 3.417]</th>\n",
       "      <td>292</td>\n",
       "      <td>119450.575</td>\n",
       "      <td>68185.000</td>\n",
       "    </tr>\n",
       "    <tr>\n",
       "      <th>(3.417, 4.062]</th>\n",
       "      <td>154</td>\n",
       "      <td>143215.558</td>\n",
       "      <td>83594.500</td>\n",
       "    </tr>\n",
       "    <tr>\n",
       "      <th>(4.062, 4.706]</th>\n",
       "      <td>119</td>\n",
       "      <td>174429.689</td>\n",
       "      <td>108495.000</td>\n",
       "    </tr>\n",
       "    <tr>\n",
       "      <th>(4.706, 5.35]</th>\n",
       "      <td>50</td>\n",
       "      <td>194815.600</td>\n",
       "      <td>145269.000</td>\n",
       "    </tr>\n",
       "    <tr>\n",
       "      <th>(5.35, 5.995]</th>\n",
       "      <td>47</td>\n",
       "      <td>238365.043</td>\n",
       "      <td>188745.000</td>\n",
       "    </tr>\n",
       "    <tr>\n",
       "      <th>(5.995, 6.639]</th>\n",
       "      <td>20</td>\n",
       "      <td>279163.950</td>\n",
       "      <td>177745.000</td>\n",
       "    </tr>\n",
       "    <tr>\n",
       "      <th>(6.639, 7.283]</th>\n",
       "      <td>15</td>\n",
       "      <td>345272.933</td>\n",
       "      <td>356850.000</td>\n",
       "    </tr>\n",
       "    <tr>\n",
       "      <th>(7.283, 7.928]</th>\n",
       "      <td>9</td>\n",
       "      <td>330393.333</td>\n",
       "      <td>226850.000</td>\n",
       "    </tr>\n",
       "    <tr>\n",
       "      <th>(7.928, 8.572]</th>\n",
       "      <td>5</td>\n",
       "      <td>285537.000</td>\n",
       "      <td>181495.000</td>\n",
       "    </tr>\n",
       "    <tr>\n",
       "      <th>(8.572, 9.216]</th>\n",
       "      <td>4</td>\n",
       "      <td>414254.750</td>\n",
       "      <td>435334.500</td>\n",
       "    </tr>\n",
       "    <tr>\n",
       "      <th>(9.216, 9.861]</th>\n",
       "      <td>8</td>\n",
       "      <td>470604.375</td>\n",
       "      <td>401747.500</td>\n",
       "    </tr>\n",
       "    <tr>\n",
       "      <th>(9.861, 10.505]</th>\n",
       "      <td>5</td>\n",
       "      <td>566249.000</td>\n",
       "      <td>725000.000</td>\n",
       "    </tr>\n",
       "    <tr>\n",
       "      <th>(10.505, 11.149]</th>\n",
       "      <td>2</td>\n",
       "      <td>287122.500</td>\n",
       "      <td>287122.500</td>\n",
       "    </tr>\n",
       "    <tr>\n",
       "      <th>(11.149, 11.794]</th>\n",
       "      <td>2</td>\n",
       "      <td>488997.500</td>\n",
       "      <td>488997.500</td>\n",
       "    </tr>\n",
       "    <tr>\n",
       "      <th>(11.794, 12.438]</th>\n",
       "      <td>2</td>\n",
       "      <td>595851.000</td>\n",
       "      <td>595851.000</td>\n",
       "    </tr>\n",
       "    <tr>\n",
       "      <th>(12.438, 13.082]</th>\n",
       "      <td>0</td>\n",
       "      <td>NaN</td>\n",
       "      <td>NaN</td>\n",
       "    </tr>\n",
       "    <tr>\n",
       "      <th>(13.082, 13.727]</th>\n",
       "      <td>2</td>\n",
       "      <td>544672.500</td>\n",
       "      <td>544672.500</td>\n",
       "    </tr>\n",
       "    <tr>\n",
       "      <th>(13.727, 14.371]</th>\n",
       "      <td>0</td>\n",
       "      <td>NaN</td>\n",
       "      <td>NaN</td>\n",
       "    </tr>\n",
       "    <tr>\n",
       "      <th>(14.371, 15.015]</th>\n",
       "      <td>2</td>\n",
       "      <td>819872.500</td>\n",
       "      <td>819872.500</td>\n",
       "    </tr>\n",
       "    <tr>\n",
       "      <th>(15.015, 15.66]</th>\n",
       "      <td>1</td>\n",
       "      <td>595000.000</td>\n",
       "      <td>595000.000</td>\n",
       "    </tr>\n",
       "    <tr>\n",
       "      <th>(15.66, 16.304]</th>\n",
       "      <td>0</td>\n",
       "      <td>NaN</td>\n",
       "      <td>NaN</td>\n",
       "    </tr>\n",
       "    <tr>\n",
       "      <th>(16.304, 16.948]</th>\n",
       "      <td>0</td>\n",
       "      <td>NaN</td>\n",
       "      <td>NaN</td>\n",
       "    </tr>\n",
       "    <tr>\n",
       "      <th>(16.948, 17.593]</th>\n",
       "      <td>0</td>\n",
       "      <td>NaN</td>\n",
       "      <td>NaN</td>\n",
       "    </tr>\n",
       "    <tr>\n",
       "      <th>(17.593, 18.237]</th>\n",
       "      <td>0</td>\n",
       "      <td>NaN</td>\n",
       "      <td>NaN</td>\n",
       "    </tr>\n",
       "    <tr>\n",
       "      <th>(18.237, 18.881]</th>\n",
       "      <td>0</td>\n",
       "      <td>NaN</td>\n",
       "      <td>NaN</td>\n",
       "    </tr>\n",
       "    <tr>\n",
       "      <th>(18.881, 19.526]</th>\n",
       "      <td>0</td>\n",
       "      <td>NaN</td>\n",
       "      <td>NaN</td>\n",
       "    </tr>\n",
       "    <tr>\n",
       "      <th>(19.526, 20.17]</th>\n",
       "      <td>1</td>\n",
       "      <td>745000.000</td>\n",
       "      <td>745000.000</td>\n",
       "    </tr>\n",
       "  </tbody>\n",
       "</table>\n",
       "</div>"
      ],
      "text/plain": [
       "                  count       mean     median\n",
       "weight_bin                                   \n",
       "(0.821, 1.484]      150  28729.720  21995.000\n",
       "(1.484, 2.129]      490  49435.127  37745.000\n",
       "(2.129, 2.773]      508  80555.419  53240.000\n",
       "(2.773, 3.417]      292 119450.575  68185.000\n",
       "(3.417, 4.062]      154 143215.558  83594.500\n",
       "(4.062, 4.706]      119 174429.689 108495.000\n",
       "(4.706, 5.35]        50 194815.600 145269.000\n",
       "(5.35, 5.995]        47 238365.043 188745.000\n",
       "(5.995, 6.639]       20 279163.950 177745.000\n",
       "(6.639, 7.283]       15 345272.933 356850.000\n",
       "(7.283, 7.928]        9 330393.333 226850.000\n",
       "(7.928, 8.572]        5 285537.000 181495.000\n",
       "(8.572, 9.216]        4 414254.750 435334.500\n",
       "(9.216, 9.861]        8 470604.375 401747.500\n",
       "(9.861, 10.505]       5 566249.000 725000.000\n",
       "(10.505, 11.149]      2 287122.500 287122.500\n",
       "(11.149, 11.794]      2 488997.500 488997.500\n",
       "(11.794, 12.438]      2 595851.000 595851.000\n",
       "(12.438, 13.082]      0        NaN        NaN\n",
       "(13.082, 13.727]      2 544672.500 544672.500\n",
       "(13.727, 14.371]      0        NaN        NaN\n",
       "(14.371, 15.015]      2 819872.500 819872.500\n",
       "(15.015, 15.66]       1 595000.000 595000.000\n",
       "(15.66, 16.304]       0        NaN        NaN\n",
       "(16.304, 16.948]      0        NaN        NaN\n",
       "(16.948, 17.593]      0        NaN        NaN\n",
       "(17.593, 18.237]      0        NaN        NaN\n",
       "(18.237, 18.881]      0        NaN        NaN\n",
       "(18.881, 19.526]      0        NaN        NaN\n",
       "(19.526, 20.17]       1 745000.000 745000.000"
      ]
     },
     "execution_count": 124,
     "metadata": {},
     "output_type": "execute_result"
    }
   ],
   "source": [
    "df.groupby('weight_bin', as_index = True)['price'].agg(['count', 'mean', 'median'])"
   ]
  },
  {
   "cell_type": "code",
   "execution_count": 125,
   "id": "454e6f73",
   "metadata": {},
   "outputs": [
    {
     "data": {
      "text/html": [
       "<div>\n",
       "<style scoped>\n",
       "    .dataframe tbody tr th:only-of-type {\n",
       "        vertical-align: middle;\n",
       "    }\n",
       "\n",
       "    .dataframe tbody tr th {\n",
       "        vertical-align: top;\n",
       "    }\n",
       "\n",
       "    .dataframe thead th {\n",
       "        text-align: right;\n",
       "    }\n",
       "</style>\n",
       "<table border=\"1\" class=\"dataframe\">\n",
       "  <thead>\n",
       "    <tr style=\"text-align: right;\">\n",
       "      <th></th>\n",
       "      <th>weight_bin</th>\n",
       "      <th>count</th>\n",
       "      <th>mean</th>\n",
       "      <th>median</th>\n",
       "    </tr>\n",
       "  </thead>\n",
       "  <tbody>\n",
       "    <tr>\n",
       "      <th>0</th>\n",
       "      <td>(0.821, 1.484]</td>\n",
       "      <td>150</td>\n",
       "      <td>28729.720</td>\n",
       "      <td>21995.000</td>\n",
       "    </tr>\n",
       "    <tr>\n",
       "      <th>1</th>\n",
       "      <td>(1.484, 2.129]</td>\n",
       "      <td>490</td>\n",
       "      <td>49435.127</td>\n",
       "      <td>37745.000</td>\n",
       "    </tr>\n",
       "    <tr>\n",
       "      <th>2</th>\n",
       "      <td>(2.129, 2.773]</td>\n",
       "      <td>508</td>\n",
       "      <td>80555.419</td>\n",
       "      <td>53240.000</td>\n",
       "    </tr>\n",
       "    <tr>\n",
       "      <th>3</th>\n",
       "      <td>(2.773, 3.417]</td>\n",
       "      <td>292</td>\n",
       "      <td>119450.575</td>\n",
       "      <td>68185.000</td>\n",
       "    </tr>\n",
       "    <tr>\n",
       "      <th>4</th>\n",
       "      <td>(3.417, 4.062]</td>\n",
       "      <td>154</td>\n",
       "      <td>143215.558</td>\n",
       "      <td>83594.500</td>\n",
       "    </tr>\n",
       "    <tr>\n",
       "      <th>5</th>\n",
       "      <td>(4.062, 4.706]</td>\n",
       "      <td>119</td>\n",
       "      <td>174429.689</td>\n",
       "      <td>108495.000</td>\n",
       "    </tr>\n",
       "    <tr>\n",
       "      <th>6</th>\n",
       "      <td>(4.706, 5.35]</td>\n",
       "      <td>50</td>\n",
       "      <td>194815.600</td>\n",
       "      <td>145269.000</td>\n",
       "    </tr>\n",
       "    <tr>\n",
       "      <th>7</th>\n",
       "      <td>(5.35, 5.995]</td>\n",
       "      <td>47</td>\n",
       "      <td>238365.043</td>\n",
       "      <td>188745.000</td>\n",
       "    </tr>\n",
       "    <tr>\n",
       "      <th>8</th>\n",
       "      <td>(5.995, 6.639]</td>\n",
       "      <td>20</td>\n",
       "      <td>279163.950</td>\n",
       "      <td>177745.000</td>\n",
       "    </tr>\n",
       "    <tr>\n",
       "      <th>9</th>\n",
       "      <td>(6.639, 7.283]</td>\n",
       "      <td>15</td>\n",
       "      <td>345272.933</td>\n",
       "      <td>356850.000</td>\n",
       "    </tr>\n",
       "    <tr>\n",
       "      <th>10</th>\n",
       "      <td>(7.283, 7.928]</td>\n",
       "      <td>9</td>\n",
       "      <td>330393.333</td>\n",
       "      <td>226850.000</td>\n",
       "    </tr>\n",
       "    <tr>\n",
       "      <th>11</th>\n",
       "      <td>(7.928, 8.572]</td>\n",
       "      <td>5</td>\n",
       "      <td>285537.000</td>\n",
       "      <td>181495.000</td>\n",
       "    </tr>\n",
       "    <tr>\n",
       "      <th>12</th>\n",
       "      <td>(8.572, 9.216]</td>\n",
       "      <td>4</td>\n",
       "      <td>414254.750</td>\n",
       "      <td>435334.500</td>\n",
       "    </tr>\n",
       "    <tr>\n",
       "      <th>13</th>\n",
       "      <td>(9.216, 9.861]</td>\n",
       "      <td>8</td>\n",
       "      <td>470604.375</td>\n",
       "      <td>401747.500</td>\n",
       "    </tr>\n",
       "    <tr>\n",
       "      <th>14</th>\n",
       "      <td>(9.861, 10.505]</td>\n",
       "      <td>5</td>\n",
       "      <td>566249.000</td>\n",
       "      <td>725000.000</td>\n",
       "    </tr>\n",
       "    <tr>\n",
       "      <th>15</th>\n",
       "      <td>(10.505, 11.149]</td>\n",
       "      <td>2</td>\n",
       "      <td>287122.500</td>\n",
       "      <td>287122.500</td>\n",
       "    </tr>\n",
       "    <tr>\n",
       "      <th>16</th>\n",
       "      <td>(11.149, 11.794]</td>\n",
       "      <td>2</td>\n",
       "      <td>488997.500</td>\n",
       "      <td>488997.500</td>\n",
       "    </tr>\n",
       "    <tr>\n",
       "      <th>17</th>\n",
       "      <td>(11.794, 12.438]</td>\n",
       "      <td>2</td>\n",
       "      <td>595851.000</td>\n",
       "      <td>595851.000</td>\n",
       "    </tr>\n",
       "    <tr>\n",
       "      <th>18</th>\n",
       "      <td>(12.438, 13.082]</td>\n",
       "      <td>0</td>\n",
       "      <td>NaN</td>\n",
       "      <td>NaN</td>\n",
       "    </tr>\n",
       "    <tr>\n",
       "      <th>19</th>\n",
       "      <td>(13.082, 13.727]</td>\n",
       "      <td>2</td>\n",
       "      <td>544672.500</td>\n",
       "      <td>544672.500</td>\n",
       "    </tr>\n",
       "    <tr>\n",
       "      <th>20</th>\n",
       "      <td>(13.727, 14.371]</td>\n",
       "      <td>0</td>\n",
       "      <td>NaN</td>\n",
       "      <td>NaN</td>\n",
       "    </tr>\n",
       "    <tr>\n",
       "      <th>21</th>\n",
       "      <td>(14.371, 15.015]</td>\n",
       "      <td>2</td>\n",
       "      <td>819872.500</td>\n",
       "      <td>819872.500</td>\n",
       "    </tr>\n",
       "    <tr>\n",
       "      <th>22</th>\n",
       "      <td>(15.015, 15.66]</td>\n",
       "      <td>1</td>\n",
       "      <td>595000.000</td>\n",
       "      <td>595000.000</td>\n",
       "    </tr>\n",
       "    <tr>\n",
       "      <th>23</th>\n",
       "      <td>(15.66, 16.304]</td>\n",
       "      <td>0</td>\n",
       "      <td>NaN</td>\n",
       "      <td>NaN</td>\n",
       "    </tr>\n",
       "    <tr>\n",
       "      <th>24</th>\n",
       "      <td>(16.304, 16.948]</td>\n",
       "      <td>0</td>\n",
       "      <td>NaN</td>\n",
       "      <td>NaN</td>\n",
       "    </tr>\n",
       "    <tr>\n",
       "      <th>25</th>\n",
       "      <td>(16.948, 17.593]</td>\n",
       "      <td>0</td>\n",
       "      <td>NaN</td>\n",
       "      <td>NaN</td>\n",
       "    </tr>\n",
       "    <tr>\n",
       "      <th>26</th>\n",
       "      <td>(17.593, 18.237]</td>\n",
       "      <td>0</td>\n",
       "      <td>NaN</td>\n",
       "      <td>NaN</td>\n",
       "    </tr>\n",
       "    <tr>\n",
       "      <th>27</th>\n",
       "      <td>(18.237, 18.881]</td>\n",
       "      <td>0</td>\n",
       "      <td>NaN</td>\n",
       "      <td>NaN</td>\n",
       "    </tr>\n",
       "    <tr>\n",
       "      <th>28</th>\n",
       "      <td>(18.881, 19.526]</td>\n",
       "      <td>0</td>\n",
       "      <td>NaN</td>\n",
       "      <td>NaN</td>\n",
       "    </tr>\n",
       "    <tr>\n",
       "      <th>29</th>\n",
       "      <td>(19.526, 20.17]</td>\n",
       "      <td>1</td>\n",
       "      <td>745000.000</td>\n",
       "      <td>745000.000</td>\n",
       "    </tr>\n",
       "  </tbody>\n",
       "</table>\n",
       "</div>"
      ],
      "text/plain": [
       "          weight_bin  count       mean     median\n",
       "0     (0.821, 1.484]    150  28729.720  21995.000\n",
       "1     (1.484, 2.129]    490  49435.127  37745.000\n",
       "2     (2.129, 2.773]    508  80555.419  53240.000\n",
       "3     (2.773, 3.417]    292 119450.575  68185.000\n",
       "4     (3.417, 4.062]    154 143215.558  83594.500\n",
       "5     (4.062, 4.706]    119 174429.689 108495.000\n",
       "6      (4.706, 5.35]     50 194815.600 145269.000\n",
       "7      (5.35, 5.995]     47 238365.043 188745.000\n",
       "8     (5.995, 6.639]     20 279163.950 177745.000\n",
       "9     (6.639, 7.283]     15 345272.933 356850.000\n",
       "10    (7.283, 7.928]      9 330393.333 226850.000\n",
       "11    (7.928, 8.572]      5 285537.000 181495.000\n",
       "12    (8.572, 9.216]      4 414254.750 435334.500\n",
       "13    (9.216, 9.861]      8 470604.375 401747.500\n",
       "14   (9.861, 10.505]      5 566249.000 725000.000\n",
       "15  (10.505, 11.149]      2 287122.500 287122.500\n",
       "16  (11.149, 11.794]      2 488997.500 488997.500\n",
       "17  (11.794, 12.438]      2 595851.000 595851.000\n",
       "18  (12.438, 13.082]      0        NaN        NaN\n",
       "19  (13.082, 13.727]      2 544672.500 544672.500\n",
       "20  (13.727, 14.371]      0        NaN        NaN\n",
       "21  (14.371, 15.015]      2 819872.500 819872.500\n",
       "22   (15.015, 15.66]      1 595000.000 595000.000\n",
       "23   (15.66, 16.304]      0        NaN        NaN\n",
       "24  (16.304, 16.948]      0        NaN        NaN\n",
       "25  (16.948, 17.593]      0        NaN        NaN\n",
       "26  (17.593, 18.237]      0        NaN        NaN\n",
       "27  (18.237, 18.881]      0        NaN        NaN\n",
       "28  (18.881, 19.526]      0        NaN        NaN\n",
       "29   (19.526, 20.17]      1 745000.000 745000.000"
      ]
     },
     "execution_count": 125,
     "metadata": {},
     "output_type": "execute_result"
    }
   ],
   "source": [
    "_.reset_index()"
   ]
  },
  {
   "cell_type": "code",
   "execution_count": 126,
   "id": "6c113ebf",
   "metadata": {},
   "outputs": [],
   "source": [
    "df_bin = _"
   ]
  },
  {
   "cell_type": "code",
   "execution_count": 130,
   "id": "770bb90e",
   "metadata": {},
   "outputs": [
    {
     "data": {
      "text/plain": [
       "<AxesSubplot:>"
      ]
     },
     "execution_count": 130,
     "metadata": {},
     "output_type": "execute_result"
    },
    {
     "data": {
      "image/png": "[encoded data removed]",
      "text/plain": [
       "<Figure size 432x288 with 1 Axes>"
      ]
     },
     "metadata": {
      "needs_background": "light"
     },
     "output_type": "display_data"
    }
   ],
   "source": [
    "df_bin['median'].plot()"
   ]
  },
  {
   "cell_type": "code",
   "execution_count": 134,
   "id": "5f52837a",
   "metadata": {
    "scrolled": true
   },
   "outputs": [
    {
     "data": {
      "text/plain": [
       "<AxesSubplot:xlabel='prcost', ylabel='price'>"
      ]
     },
     "execution_count": 134,
     "metadata": {},
     "output_type": "execute_result"
    },
    {
     "data": {
      "image/png": "[encoded data removed]",
      "text/plain": [
       "<Figure size 432x288 with 1 Axes>"
      ]
     },
     "metadata": {
      "needs_background": "light"
     },
     "output_type": "display_data"
    }
   ],
   "source": [
    "df.plot(x='prcost', y = 'price', kind='scatter')"
   ]
  },
  {
   "cell_type": "code",
   "execution_count": 136,
   "id": "a2838aac",
   "metadata": {},
   "outputs": [
    {
     "data": {
      "text/html": [
       "<div>\n",
       "<style scoped>\n",
       "    .dataframe tbody tr th:only-of-type {\n",
       "        vertical-align: middle;\n",
       "    }\n",
       "\n",
       "    .dataframe tbody tr th {\n",
       "        vertical-align: top;\n",
       "    }\n",
       "\n",
       "    .dataframe thead th {\n",
       "        text-align: right;\n",
       "    }\n",
       "</style>\n",
       "<table border=\"1\" class=\"dataframe\">\n",
       "  <thead>\n",
       "    <tr style=\"text-align: right;\">\n",
       "      <th></th>\n",
       "      <th>prcost</th>\n",
       "      <th>КАРАТ</th>\n",
       "      <th>price</th>\n",
       "    </tr>\n",
       "  </thead>\n",
       "  <tbody>\n",
       "    <tr>\n",
       "      <th>prcost</th>\n",
       "      <td>1.000</td>\n",
       "      <td>0.624</td>\n",
       "      <td>0.864</td>\n",
       "    </tr>\n",
       "    <tr>\n",
       "      <th>КАРАТ</th>\n",
       "      <td>0.624</td>\n",
       "      <td>1.000</td>\n",
       "      <td>0.806</td>\n",
       "    </tr>\n",
       "    <tr>\n",
       "      <th>price</th>\n",
       "      <td>0.864</td>\n",
       "      <td>0.806</td>\n",
       "      <td>1.000</td>\n",
       "    </tr>\n",
       "  </tbody>\n",
       "</table>\n",
       "</div>"
      ],
      "text/plain": [
       "        prcost  КАРАТ  price\n",
       "prcost   1.000  0.624  0.864\n",
       "КАРАТ    0.624  1.000  0.806\n",
       "price    0.864  0.806  1.000"
      ]
     },
     "execution_count": 136,
     "metadata": {},
     "output_type": "execute_result"
    }
   ],
   "source": [
    "df[['prcost','КАРАТ' ,'price']].corr()"
   ]
  },
  {
   "cell_type": "code",
   "execution_count": 137,
   "id": "e5cf984f",
   "metadata": {},
   "outputs": [
    {
     "data": {
      "text/plain": [
       "<AxesSubplot:xlabel='prcost', ylabel='КАРАТ'>"
      ]
     },
     "execution_count": 137,
     "metadata": {},
     "output_type": "execute_result"
    },
    {
     "data": {
      "image/png": "[encoded data removed]",
      "text/plain": [
       "<Figure size 432x288 with 1 Axes>"
      ]
     },
     "metadata": {
      "needs_background": "light"
     },
     "output_type": "display_data"
    }
   ],
   "source": [
    "df.plot(x='prcost', y = 'КАРАТ', kind = 'scatter')"
   ]
  },
  {
   "cell_type": "code",
   "execution_count": 131,
   "id": "ed7b255c",
   "metadata": {},
   "outputs": [
    {
     "data": {
      "text/html": [
       "<div>\n",
       "<style scoped>\n",
       "    .dataframe tbody tr th:only-of-type {\n",
       "        vertical-align: middle;\n",
       "    }\n",
       "\n",
       "    .dataframe tbody tr th {\n",
       "        vertical-align: top;\n",
       "    }\n",
       "\n",
       "    .dataframe thead th {\n",
       "        text-align: right;\n",
       "    }\n",
       "</style>\n",
       "<table border=\"1\" class=\"dataframe\">\n",
       "  <thead>\n",
       "    <tr style=\"text-align: right;\">\n",
       "      <th></th>\n",
       "      <th>index_row</th>\n",
       "      <th>h1</th>\n",
       "      <th>art</th>\n",
       "      <th>price</th>\n",
       "      <th>gold</th>\n",
       "      <th>weight</th>\n",
       "      <th>gems</th>\n",
       "      <th>url</th>\n",
       "      <th>vstavki_list1</th>\n",
       "      <th>ШТУК</th>\n",
       "      <th>КАРАТ</th>\n",
       "      <th>prcost</th>\n",
       "      <th>weight_bin</th>\n",
       "      <th>weight_rank</th>\n",
       "    </tr>\n",
       "  </thead>\n",
       "  <tbody>\n",
       "    <tr>\n",
       "      <th>0</th>\n",
       "      <td>0</td>\n",
       "      <td>Кольцо c бриллиантом R01-SOL127-020-G2</td>\n",
       "      <td>Артикул R01-SOL127-020-G2</td>\n",
       "      <td>92394</td>\n",
       "      <td>Золото 585</td>\n",
       "      <td>2.970</td>\n",
       "      <td>1  Бриллиант огранки \"Круглая\" граней - 57, ти...</td>\n",
       "      <td>https://miuz.ru/catalog/rings/R01-SOL127-020-G2/</td>\n",
       "      <td>['1  Бриллиант огранки \"Круглая\" граней - 57, ...</td>\n",
       "      <td>1</td>\n",
       "      <td>0.190</td>\n",
       "      <td>81.700</td>\n",
       "      <td>(2.773, 3.417]</td>\n",
       "      <td>1257.500</td>\n",
       "    </tr>\n",
       "    <tr>\n",
       "      <th>1</th>\n",
       "      <td>1</td>\n",
       "      <td>Кольцо c бриллиантом R2018-RR010203ADI</td>\n",
       "      <td>Артикул R2018-RR010203ADI</td>\n",
       "      <td>27245</td>\n",
       "      <td>Золото 585</td>\n",
       "      <td>2.020</td>\n",
       "      <td>1  Бриллиант огранки \"Круглая\" граней - 57, ти...</td>\n",
       "      <td>https://miuz.ru/catalog/rings/R2018-RR010203ADI/</td>\n",
       "      <td>['1  Бриллиант огранки \"Круглая\" граней - 57, ...</td>\n",
       "      <td>1</td>\n",
       "      <td>0.045</td>\n",
       "      <td>13.280</td>\n",
       "      <td>(1.484, 2.129]</td>\n",
       "      <td>534.500</td>\n",
       "    </tr>\n",
       "    <tr>\n",
       "      <th>2</th>\n",
       "      <td>3</td>\n",
       "      <td>Кольцо c бриллиантами R01-SS-35698B</td>\n",
       "      <td>Артикул R01-SS-35698B</td>\n",
       "      <td>100419</td>\n",
       "      <td>Золото 585</td>\n",
       "      <td>2.400</td>\n",
       "      <td>38  Бриллиантов огранки \"Круглая\" граней - 57,...</td>\n",
       "      <td>https://miuz.ru/catalog/rings/R01-SS-35698B/</td>\n",
       "      <td>['38  Бриллиантов огранки \"Круглая\" граней - 5...</td>\n",
       "      <td>51</td>\n",
       "      <td>0.570</td>\n",
       "      <td>100.500</td>\n",
       "      <td>(2.129, 2.773]</td>\n",
       "      <td>885.000</td>\n",
       "    </tr>\n",
       "    <tr>\n",
       "      <th>3</th>\n",
       "      <td>5</td>\n",
       "      <td>Кольцо c бриллиантами R2022-D-0.17-W</td>\n",
       "      <td>Артикул R2022-D-0.17-W</td>\n",
       "      <td>64019</td>\n",
       "      <td>Золото 585</td>\n",
       "      <td>2.950</td>\n",
       "      <td>11  Бриллиантов огранки \"Круглая\" граней - 57,...</td>\n",
       "      <td>https://miuz.ru/catalog/rings/R2022-D-0.17-W/</td>\n",
       "      <td>['11  Бриллиантов огранки \"Круглая\" граней - 5...</td>\n",
       "      <td>11</td>\n",
       "      <td>0.147</td>\n",
       "      <td>47.780</td>\n",
       "      <td>(2.773, 3.417]</td>\n",
       "      <td>1247.500</td>\n",
       "    </tr>\n",
       "    <tr>\n",
       "      <th>4</th>\n",
       "      <td>7</td>\n",
       "      <td>Кольцо c бриллиантом R01-SOL17-010-G2</td>\n",
       "      <td>Артикул R01-SOL17-010-G2</td>\n",
       "      <td>35994</td>\n",
       "      <td>Золото 585</td>\n",
       "      <td>1.490</td>\n",
       "      <td>1  Бриллиант огранки \"Круглая\" граней - 57, ти...</td>\n",
       "      <td>https://miuz.ru/catalog/rings/R01-SOL17-010-G2/</td>\n",
       "      <td>['1  Бриллиант огранки \"Круглая\" граней - 57, ...</td>\n",
       "      <td>1</td>\n",
       "      <td>0.100</td>\n",
       "      <td>38.000</td>\n",
       "      <td>(1.484, 2.129]</td>\n",
       "      <td>156.000</td>\n",
       "    </tr>\n",
       "  </tbody>\n",
       "</table>\n",
       "</div>"
      ],
      "text/plain": [
       "   index_row                                      h1  \\\n",
       "0          0  Кольцо c бриллиантом R01-SOL127-020-G2   \n",
       "1          1  Кольцо c бриллиантом R2018-RR010203ADI   \n",
       "2          3     Кольцо c бриллиантами R01-SS-35698B   \n",
       "3          5    Кольцо c бриллиантами R2022-D-0.17-W   \n",
       "4          7   Кольцо c бриллиантом R01-SOL17-010-G2   \n",
       "\n",
       "                         art   price        gold  weight  \\\n",
       "0  Артикул R01-SOL127-020-G2   92394  Золото 585   2.970   \n",
       "1  Артикул R2018-RR010203ADI   27245  Золото 585   2.020   \n",
       "2      Артикул R01-SS-35698B  100419  Золото 585   2.400   \n",
       "3     Артикул R2022-D-0.17-W   64019  Золото 585   2.950   \n",
       "4   Артикул R01-SOL17-010-G2   35994  Золото 585   1.490   \n",
       "\n",
       "                                                gems  \\\n",
       "0  1  Бриллиант огранки \"Круглая\" граней - 57, ти...   \n",
       "1  1  Бриллиант огранки \"Круглая\" граней - 57, ти...   \n",
       "2  38  Бриллиантов огранки \"Круглая\" граней - 57,...   \n",
       "3  11  Бриллиантов огранки \"Круглая\" граней - 57,...   \n",
       "4  1  Бриллиант огранки \"Круглая\" граней - 57, ти...   \n",
       "\n",
       "                                                url  \\\n",
       "0  https://miuz.ru/catalog/rings/R01-SOL127-020-G2/   \n",
       "1  https://miuz.ru/catalog/rings/R2018-RR010203ADI/   \n",
       "2      https://miuz.ru/catalog/rings/R01-SS-35698B/   \n",
       "3     https://miuz.ru/catalog/rings/R2022-D-0.17-W/   \n",
       "4   https://miuz.ru/catalog/rings/R01-SOL17-010-G2/   \n",
       "\n",
       "                                       vstavki_list1  ШТУК  КАРАТ  prcost  \\\n",
       "0  ['1  Бриллиант огранки \"Круглая\" граней - 57, ...     1  0.190  81.700   \n",
       "1  ['1  Бриллиант огранки \"Круглая\" граней - 57, ...     1  0.045  13.280   \n",
       "2  ['38  Бриллиантов огранки \"Круглая\" граней - 5...    51  0.570 100.500   \n",
       "3  ['11  Бриллиантов огранки \"Круглая\" граней - 5...    11  0.147  47.780   \n",
       "4  ['1  Бриллиант огранки \"Круглая\" граней - 57, ...     1  0.100  38.000   \n",
       "\n",
       "       weight_bin  weight_rank  \n",
       "0  (2.773, 3.417]     1257.500  \n",
       "1  (1.484, 2.129]      534.500  \n",
       "2  (2.129, 2.773]      885.000  \n",
       "3  (2.773, 3.417]     1247.500  \n",
       "4  (1.484, 2.129]      156.000  "
      ]
     },
     "execution_count": 131,
     "metadata": {},
     "output_type": "execute_result"
    }
   ],
   "source": [
    "df.head()"
   ]
  },
  {
   "cell_type": "code",
   "execution_count": 138,
   "id": "0ef048ec",
   "metadata": {},
   "outputs": [
    {
     "data": {
      "text/plain": [
       "<AxesSubplot:title={'center':'price'}, xlabel='gold'>"
      ]
     },
     "execution_count": 138,
     "metadata": {},
     "output_type": "execute_result"
    },
    {
     "data": {
      "image/png": "[encoded data removed]",
      "text/plain": [
       "<Figure size 432x288 with 1 Axes>"
      ]
     },
     "metadata": {
      "needs_background": "light"
     },
     "output_type": "display_data"
    }
   ],
   "source": [
    "df.boxplot('price', by = 'gold')"
   ]
  },
  {
   "cell_type": "code",
   "execution_count": 139,
   "id": "8a766df7",
   "metadata": {},
   "outputs": [
    {
     "data": {
      "text/plain": [
       "<AxesSubplot:>"
      ]
     },
     "execution_count": 139,
     "metadata": {},
     "output_type": "execute_result"
    },
    {
     "data": {
      "image/png": "[encoded data removed]",
      "text/plain": [
       "<Figure size 432x288 with 1 Axes>"
      ]
     },
     "metadata": {
      "needs_background": "light"
     },
     "output_type": "display_data"
    }
   ],
   "source": [
    "df.boxplot('price')"
   ]
  },
  {
   "cell_type": "code",
   "execution_count": 143,
   "id": "6cf62cb3",
   "metadata": {},
   "outputs": [],
   "source": [
    " pd.options.display.float_format = '{:.3f}'.format"
   ]
  },
  {
   "cell_type": "code",
   "execution_count": 153,
   "id": "80a77f33",
   "metadata": {},
   "outputs": [],
   "source": [
    "df['weight_bin'] = pd.cut(df.weight,5)"
   ]
  },
  {
   "cell_type": "code",
   "execution_count": 154,
   "id": "49c897e6",
   "metadata": {},
   "outputs": [
    {
     "data": {
      "text/plain": [
       "<AxesSubplot:xlabel='weight_bin', ylabel='price'>"
      ]
     },
     "execution_count": 154,
     "metadata": {},
     "output_type": "execute_result"
    },
    {
     "data": {
      "image/png": "[encoded data removed]",
      "text/plain": [
       "<Figure size 432x288 with 1 Axes>"
      ]
     },
     "metadata": {
      "needs_background": "light"
     },
     "output_type": "display_data"
    }
   ],
   "source": [
    "sns.boxplot(x = df['weight_bin'], y = df['price'])"
   ]
  },
  {
   "cell_type": "code",
   "execution_count": 142,
   "id": "da3ff6ca",
   "metadata": {},
   "outputs": [
    {
     "data": {
      "text/plain": [
       "count     1888.000\n",
       "mean    105042.577\n",
       "std     139137.257\n",
       "min       8745.000\n",
       "25%      38245.000\n",
       "50%      57995.000\n",
       "75%      97995.000\n",
       "max     974935.000\n",
       "Name: price, dtype: float64"
      ]
     },
     "execution_count": 142,
     "metadata": {},
     "output_type": "execute_result"
    }
   ],
   "source": [
    "df.price.describe()"
   ]
  },
  {
   "cell_type": "code",
   "execution_count": 140,
   "id": "c30a7307",
   "metadata": {},
   "outputs": [
    {
     "data": {
      "text/plain": [
       "<AxesSubplot:>"
      ]
     },
     "execution_count": 140,
     "metadata": {},
     "output_type": "execute_result"
    },
    {
     "data": {
      "image/png": "[encoded data removed]",
      "text/plain": [
       "<Figure size 432x288 with 1 Axes>"
      ]
     },
     "metadata": {
      "needs_background": "light"
     },
     "output_type": "display_data"
    }
   ],
   "source": [
    "df.boxplot('ШТУК')"
   ]
  },
  {
   "cell_type": "code",
   "execution_count": 155,
   "id": "edcf3898",
   "metadata": {},
   "outputs": [],
   "source": [
    "sns.boxplot?"
   ]
  },
  {
   "cell_type": "code",
   "execution_count": null,
   "id": "189bdded",
   "metadata": {},
   "outputs": [],
   "source": []
  }
 ],
 "metadata": {
  "kernelspec": {
   "display_name": "Python 3 (ipykernel)",
   "language": "python",
   "name": "python3"
  },
  "language_info": {
   "codemirror_mode": {
    "name": "ipython",
    "version": 3
   },
   "file_extension": ".py",
   "mimetype": "text/x-python",
   "name": "python",
   "nbconvert_exporter": "python",
   "pygments_lexer": "ipython3",
   "version": "3.9.7"
  }
 },
 "nbformat": 4,
 "nbformat_minor": 5
}
